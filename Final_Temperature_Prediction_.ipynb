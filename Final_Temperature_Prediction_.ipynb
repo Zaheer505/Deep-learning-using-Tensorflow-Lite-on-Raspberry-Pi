{
  "nbformat": 4,
  "nbformat_minor": 0,
  "metadata": {
    "colab": {
      "name": "Final_Temperature_Prediction .ipynb",
      "provenance": [],
      "collapsed_sections": [],
      "authorship_tag": "ABX9TyOvbTQdgTY/it8BgciD2COg",
      "include_colab_link": true
    },
    "kernelspec": {
      "display_name": "Python 3",
      "name": "python3"
    },
    "language_info": {
      "name": "python"
    }
  },
  "cells": [
    {
      "cell_type": "markdown",
      "metadata": {
        "id": "view-in-github",
        "colab_type": "text"
      },
      "source": [
        "<a href=\"https://colab.research.google.com/github/Zaheer505/Tiny-ML/blob/main/Final_Temperature_Prediction_.ipynb\" target=\"_parent\"><img src=\"https://colab.research.google.com/assets/colab-badge.svg\" alt=\"Open In Colab\"/></a>"
      ]
    },
    {
      "cell_type": "code",
      "metadata": {
        "id": "XOulq2WiXwhQ",
        "colab": {
          "resources": {
            "http://localhost:8080/nbextensions/google.colab/files.js": {
              "data": "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",
              "ok": true,
              "headers": [
                [
                  "content-type",
                  "application/javascript"
                ]
              ],
              "status": 200,
              "status_text": ""
            }
          },
          "base_uri": "https://localhost:8080/",
          "height": 128
        },
        "outputId": "e4ef86b2-5fba-438d-93db-a614621fbea5"
      },
      "source": [
        "from google.colab import files\n",
        "data = files.upload()\n",
        "test_data = files.upload()"
      ],
      "execution_count": null,
      "outputs": [
        {
          "output_type": "display_data",
          "data": {
            "text/html": [
              "\n",
              "     <input type=\"file\" id=\"files-529aff9e-a2d9-4714-af94-941521999be1\" name=\"files[]\" multiple disabled\n",
              "        style=\"border:none\" />\n",
              "     <output id=\"result-529aff9e-a2d9-4714-af94-941521999be1\">\n",
              "      Upload widget is only available when the cell has been executed in the\n",
              "      current browser session. Please rerun this cell to enable.\n",
              "      </output>\n",
              "      <script src=\"/nbextensions/google.colab/files.js\"></script> "
            ],
            "text/plain": [
              "<IPython.core.display.HTML object>"
            ]
          },
          "metadata": {}
        },
        {
          "output_type": "stream",
          "name": "stdout",
          "text": [
            "Saving data.csv to data.csv\n"
          ]
        },
        {
          "output_type": "display_data",
          "data": {
            "text/html": [
              "\n",
              "     <input type=\"file\" id=\"files-df56effe-7c89-4c07-9bd7-3f96e8cd62c1\" name=\"files[]\" multiple disabled\n",
              "        style=\"border:none\" />\n",
              "     <output id=\"result-df56effe-7c89-4c07-9bd7-3f96e8cd62c1\">\n",
              "      Upload widget is only available when the cell has been executed in the\n",
              "      current browser session. Please rerun this cell to enable.\n",
              "      </output>\n",
              "      <script src=\"/nbextensions/google.colab/files.js\"></script> "
            ],
            "text/plain": [
              "<IPython.core.display.HTML object>"
            ]
          },
          "metadata": {}
        },
        {
          "output_type": "stream",
          "name": "stdout",
          "text": [
            "Saving test_data.csv to test_data.csv\n"
          ]
        }
      ]
    },
    {
      "cell_type": "code",
      "metadata": {
        "id": "bm5jNm7xPJII"
      },
      "source": [
        "import numpy as np\n",
        "import matplotlib.pyplot as plt\n",
        "import pandas as pd\n",
        "\n",
        "#import dataset from data.csv file\n",
        "dataset = pd.read_csv('data.csv')\n",
        "training_set = dataset.iloc[:,0:1].values"
      ],
      "execution_count": null,
      "outputs": []
    },
    {
      "cell_type": "code",
      "metadata": {
        "id": "dsE4jG9ePSUm"
      },
      "source": [
        "#Feature Scaling \n",
        "from sklearn.preprocessing import MinMaxScaler\n",
        "sc = MinMaxScaler(feature_range=(0,1))\n",
        "training_set_scaled = sc.fit_transform(training_set,)"
      ],
      "execution_count": null,
      "outputs": []
    },
    {
      "cell_type": "code",
      "metadata": {
        "id": "OssPKUvLPTot",
        "colab": {
          "base_uri": "https://localhost:8080/"
        },
        "outputId": "5ae631b8-2029-4b2c-a263-d93335652848"
      },
      "source": [
        "x_train = []\n",
        "y_train = []\n",
        "\n",
        "future = 7 # next 4 days temperature forecast\n",
        "past = 30 # Past 30 days \n",
        "\n",
        "for i in range(0,len(training_set_scaled)- past - future + 1):\n",
        "    x_train.append(training_set_scaled[i : i + past , 0])     \n",
        "    y_train.append(training_set_scaled[i + past : i + past + future , 0 ])\n",
        "    \n",
        "x_train , y_train = np.array(x_train), np.array(y_train)\n",
        "x_train = np.reshape(x_train, (x_train.shape[0] , x_train.shape[1], 1) )\n",
        "\n",
        "print (x_train)"
      ],
      "execution_count": null,
      "outputs": [
        {
          "output_type": "stream",
          "name": "stdout",
          "text": [
            "[[[0.07492168]\n",
            "  [0.12482211]\n",
            "  [0.45632432]\n",
            "  ...\n",
            "  [0.56437475]\n",
            "  [0.81417838]\n",
            "  [0.98542203]]\n",
            "\n",
            " [[0.12482211]\n",
            "  [0.45632432]\n",
            "  [0.63435313]\n",
            "  ...\n",
            "  [0.81417838]\n",
            "  [0.98542203]\n",
            "  [0.95613394]]\n",
            "\n",
            " [[0.45632432]\n",
            "  [0.63435313]\n",
            "  [0.83157283]\n",
            "  ...\n",
            "  [0.98542203]\n",
            "  [0.95613394]\n",
            "  [0.90932751]]\n",
            "\n",
            " ...\n",
            "\n",
            " [[0.70443889]\n",
            "  [0.43385855]\n",
            "  [0.17858715]\n",
            "  ...\n",
            "  [0.17002208]\n",
            "  [0.29293955]\n",
            "  [0.48740059]]\n",
            "\n",
            " [[0.43385855]\n",
            "  [0.17858715]\n",
            "  [0.13196821]\n",
            "  ...\n",
            "  [0.29293955]\n",
            "  [0.48740059]\n",
            "  [0.64434296]]\n",
            "\n",
            " [[0.17858715]\n",
            "  [0.13196821]\n",
            "  [0.26445263]\n",
            "  ...\n",
            "  [0.48740059]\n",
            "  [0.64434296]\n",
            "  [0.89360973]]]\n"
          ]
        }
      ]
    },
    {
      "cell_type": "code",
      "metadata": {
        "id": "aUJlymh5Pb8S"
      },
      "source": [
        "from keras.models import Sequential\n",
        "from keras.layers import Dense , Flatten\n",
        "import tensorflow as tf\n",
        "# Fitting RNN to training set using Keras Callbacks. Read Keras callbacks docs for more info."
      ],
      "execution_count": null,
      "outputs": []
    },
    {
      "cell_type": "code",
      "metadata": {
        "id": "1k_XilQ2xK3N",
        "colab": {
          "base_uri": "https://localhost:8080/"
        },
        "outputId": "bfd009b8-9d29-4219-fd67-efd9e5d1008e"
      },
      "source": [
        "print(tf.__version__)"
      ],
      "execution_count": null,
      "outputs": [
        {
          "output_type": "stream",
          "name": "stdout",
          "text": [
            "2.6.0\n"
          ]
        }
      ]
    },
    {
      "cell_type": "code",
      "metadata": {
        "id": "e9eCUxBTPcAV",
        "colab": {
          "base_uri": "https://localhost:8080/"
        },
        "outputId": "055658db-b136-4e5e-9580-997aeb48677c"
      },
      "source": [
        "regressor = Sequential()\n",
        "\n",
        "regressor.add((Dense(units=30, input_shape = (x_train.shape[1],1) )))\n",
        "regressor.add(Dense(units=30 , activation='relu'))\n",
        "regressor.add(Dense(units=30 , activation='relu'))\n",
        "regressor.add(Dense(units=30 , activation='relu'))\n",
        "regressor.add(Flatten())\n",
        "regressor.add(Dense(units = future))\n",
        "\n",
        "regressor.compile(optimizer='adam', loss='mean_squared_error',metrics=['acc'])\n",
        "\n",
        "regressor.fit(x_train, y_train, epochs=100,batch_size=32 )"
      ],
      "execution_count": null,
      "outputs": [
        {
          "output_type": "stream",
          "name": "stdout",
          "text": [
            "Epoch 1/100\n",
            "40/40 [==============================] - 1s 3ms/step - loss: 0.1291 - acc: 0.4890\n",
            "Epoch 2/100\n",
            "40/40 [==============================] - 0s 4ms/step - loss: 0.0049 - acc: 0.6352\n",
            "Epoch 3/100\n",
            "40/40 [==============================] - 0s 4ms/step - loss: 0.0020 - acc: 0.6761\n",
            "Epoch 4/100\n",
            "40/40 [==============================] - 0s 4ms/step - loss: 0.0019 - acc: 0.7020\n",
            "Epoch 5/100\n",
            "40/40 [==============================] - 0s 4ms/step - loss: 0.0019 - acc: 0.7028\n",
            "Epoch 6/100\n",
            "40/40 [==============================] - 0s 4ms/step - loss: 0.0019 - acc: 0.7075\n",
            "Epoch 7/100\n",
            "40/40 [==============================] - 0s 4ms/step - loss: 0.0019 - acc: 0.7146\n",
            "Epoch 8/100\n",
            "40/40 [==============================] - 0s 4ms/step - loss: 0.0018 - acc: 0.7131\n",
            "Epoch 9/100\n",
            "40/40 [==============================] - 0s 4ms/step - loss: 0.0019 - acc: 0.7138\n",
            "Epoch 10/100\n",
            "40/40 [==============================] - 0s 4ms/step - loss: 0.0019 - acc: 0.7123\n",
            "Epoch 11/100\n",
            "40/40 [==============================] - 0s 3ms/step - loss: 0.0018 - acc: 0.7091\n",
            "Epoch 12/100\n",
            "40/40 [==============================] - 0s 4ms/step - loss: 0.0018 - acc: 0.7154\n",
            "Epoch 13/100\n",
            "40/40 [==============================] - 0s 4ms/step - loss: 0.0018 - acc: 0.7233\n",
            "Epoch 14/100\n",
            "40/40 [==============================] - 0s 4ms/step - loss: 0.0019 - acc: 0.7280\n",
            "Epoch 15/100\n",
            "40/40 [==============================] - 0s 4ms/step - loss: 0.0018 - acc: 0.7099\n",
            "Epoch 16/100\n",
            "40/40 [==============================] - 0s 4ms/step - loss: 0.0018 - acc: 0.7374\n",
            "Epoch 17/100\n",
            "40/40 [==============================] - 0s 4ms/step - loss: 0.0018 - acc: 0.7264\n",
            "Epoch 18/100\n",
            "40/40 [==============================] - 0s 3ms/step - loss: 0.0018 - acc: 0.7241\n",
            "Epoch 19/100\n",
            "40/40 [==============================] - 0s 4ms/step - loss: 0.0018 - acc: 0.7358\n",
            "Epoch 20/100\n",
            "40/40 [==============================] - 0s 4ms/step - loss: 0.0019 - acc: 0.7256\n",
            "Epoch 21/100\n",
            "40/40 [==============================] - 0s 4ms/step - loss: 0.0018 - acc: 0.7476\n",
            "Epoch 22/100\n",
            "40/40 [==============================] - 0s 4ms/step - loss: 0.0018 - acc: 0.7382\n",
            "Epoch 23/100\n",
            "40/40 [==============================] - 0s 4ms/step - loss: 0.0018 - acc: 0.7225\n",
            "Epoch 24/100\n",
            "40/40 [==============================] - 0s 4ms/step - loss: 0.0018 - acc: 0.7280\n",
            "Epoch 25/100\n",
            "40/40 [==============================] - 0s 3ms/step - loss: 0.0018 - acc: 0.7366\n",
            "Epoch 26/100\n",
            "40/40 [==============================] - 0s 4ms/step - loss: 0.0018 - acc: 0.7366\n",
            "Epoch 27/100\n",
            "40/40 [==============================] - 0s 4ms/step - loss: 0.0018 - acc: 0.7327\n",
            "Epoch 28/100\n",
            "40/40 [==============================] - 0s 3ms/step - loss: 0.0018 - acc: 0.7358\n",
            "Epoch 29/100\n",
            "40/40 [==============================] - 0s 3ms/step - loss: 0.0018 - acc: 0.7217\n",
            "Epoch 30/100\n",
            "40/40 [==============================] - 0s 4ms/step - loss: 0.0018 - acc: 0.7311\n",
            "Epoch 31/100\n",
            "40/40 [==============================] - 0s 4ms/step - loss: 0.0018 - acc: 0.7272\n",
            "Epoch 32/100\n",
            "40/40 [==============================] - 0s 3ms/step - loss: 0.0017 - acc: 0.7233\n",
            "Epoch 33/100\n",
            "40/40 [==============================] - 0s 4ms/step - loss: 0.0018 - acc: 0.7248\n",
            "Epoch 34/100\n",
            "40/40 [==============================] - 0s 3ms/step - loss: 0.0018 - acc: 0.7225\n",
            "Epoch 35/100\n",
            "40/40 [==============================] - 0s 3ms/step - loss: 0.0018 - acc: 0.7319\n",
            "Epoch 36/100\n",
            "40/40 [==============================] - 0s 3ms/step - loss: 0.0018 - acc: 0.7319\n",
            "Epoch 37/100\n",
            "40/40 [==============================] - 0s 4ms/step - loss: 0.0017 - acc: 0.7366\n",
            "Epoch 38/100\n",
            "40/40 [==============================] - 0s 3ms/step - loss: 0.0018 - acc: 0.7327\n",
            "Epoch 39/100\n",
            "40/40 [==============================] - 0s 3ms/step - loss: 0.0018 - acc: 0.7343\n",
            "Epoch 40/100\n",
            "40/40 [==============================] - 0s 4ms/step - loss: 0.0018 - acc: 0.7296\n",
            "Epoch 41/100\n",
            "40/40 [==============================] - 0s 4ms/step - loss: 0.0018 - acc: 0.7288\n",
            "Epoch 42/100\n",
            "40/40 [==============================] - 0s 3ms/step - loss: 0.0018 - acc: 0.7366\n",
            "Epoch 43/100\n",
            "40/40 [==============================] - 0s 4ms/step - loss: 0.0018 - acc: 0.7421\n",
            "Epoch 44/100\n",
            "40/40 [==============================] - 0s 3ms/step - loss: 0.0017 - acc: 0.7201\n",
            "Epoch 45/100\n",
            "40/40 [==============================] - 0s 4ms/step - loss: 0.0017 - acc: 0.7366\n",
            "Epoch 46/100\n",
            "40/40 [==============================] - 0s 4ms/step - loss: 0.0017 - acc: 0.7296\n",
            "Epoch 47/100\n",
            "40/40 [==============================] - 0s 4ms/step - loss: 0.0017 - acc: 0.7366\n",
            "Epoch 48/100\n",
            "40/40 [==============================] - 0s 4ms/step - loss: 0.0017 - acc: 0.7044\n",
            "Epoch 49/100\n",
            "40/40 [==============================] - 0s 3ms/step - loss: 0.0017 - acc: 0.7146\n",
            "Epoch 50/100\n",
            "40/40 [==============================] - 0s 3ms/step - loss: 0.0018 - acc: 0.7343\n",
            "Epoch 51/100\n",
            "40/40 [==============================] - 0s 3ms/step - loss: 0.0018 - acc: 0.7217\n",
            "Epoch 52/100\n",
            "40/40 [==============================] - 0s 3ms/step - loss: 0.0017 - acc: 0.7138\n",
            "Epoch 53/100\n",
            "40/40 [==============================] - 0s 3ms/step - loss: 0.0017 - acc: 0.7280\n",
            "Epoch 54/100\n",
            "40/40 [==============================] - 0s 4ms/step - loss: 0.0017 - acc: 0.7241\n",
            "Epoch 55/100\n",
            "40/40 [==============================] - 0s 3ms/step - loss: 0.0017 - acc: 0.7335\n",
            "Epoch 56/100\n",
            "40/40 [==============================] - 0s 3ms/step - loss: 0.0017 - acc: 0.7272\n",
            "Epoch 57/100\n",
            "40/40 [==============================] - 0s 3ms/step - loss: 0.0017 - acc: 0.7178\n",
            "Epoch 58/100\n",
            "40/40 [==============================] - 0s 3ms/step - loss: 0.0018 - acc: 0.7414\n",
            "Epoch 59/100\n",
            "40/40 [==============================] - 0s 3ms/step - loss: 0.0018 - acc: 0.7146\n",
            "Epoch 60/100\n",
            "40/40 [==============================] - 0s 3ms/step - loss: 0.0018 - acc: 0.7453\n",
            "Epoch 61/100\n",
            "40/40 [==============================] - 0s 4ms/step - loss: 0.0017 - acc: 0.7170\n",
            "Epoch 62/100\n",
            "40/40 [==============================] - 0s 3ms/step - loss: 0.0017 - acc: 0.7288\n",
            "Epoch 63/100\n",
            "40/40 [==============================] - 0s 4ms/step - loss: 0.0017 - acc: 0.7343\n",
            "Epoch 64/100\n",
            "40/40 [==============================] - 0s 3ms/step - loss: 0.0017 - acc: 0.7241\n",
            "Epoch 65/100\n",
            "40/40 [==============================] - 0s 3ms/step - loss: 0.0017 - acc: 0.7154\n",
            "Epoch 66/100\n",
            "40/40 [==============================] - 0s 3ms/step - loss: 0.0017 - acc: 0.7201\n",
            "Epoch 67/100\n",
            "40/40 [==============================] - 0s 3ms/step - loss: 0.0017 - acc: 0.7311\n",
            "Epoch 68/100\n",
            "40/40 [==============================] - 0s 4ms/step - loss: 0.0017 - acc: 0.7500\n",
            "Epoch 69/100\n",
            "40/40 [==============================] - 0s 4ms/step - loss: 0.0018 - acc: 0.7311\n",
            "Epoch 70/100\n",
            "40/40 [==============================] - 0s 4ms/step - loss: 0.0017 - acc: 0.7280\n",
            "Epoch 71/100\n",
            "40/40 [==============================] - 0s 4ms/step - loss: 0.0017 - acc: 0.7280\n",
            "Epoch 72/100\n",
            "40/40 [==============================] - 0s 3ms/step - loss: 0.0017 - acc: 0.7154\n",
            "Epoch 73/100\n",
            "40/40 [==============================] - 0s 3ms/step - loss: 0.0016 - acc: 0.7461\n",
            "Epoch 74/100\n",
            "40/40 [==============================] - 0s 4ms/step - loss: 0.0017 - acc: 0.7319\n",
            "Epoch 75/100\n",
            "40/40 [==============================] - 0s 3ms/step - loss: 0.0017 - acc: 0.7248\n",
            "Epoch 76/100\n",
            "40/40 [==============================] - 0s 3ms/step - loss: 0.0017 - acc: 0.7374\n",
            "Epoch 77/100\n",
            "40/40 [==============================] - 0s 4ms/step - loss: 0.0016 - acc: 0.7217\n",
            "Epoch 78/100\n",
            "40/40 [==============================] - 0s 4ms/step - loss: 0.0017 - acc: 0.7241\n",
            "Epoch 79/100\n",
            "40/40 [==============================] - 0s 3ms/step - loss: 0.0017 - acc: 0.7366\n",
            "Epoch 80/100\n",
            "40/40 [==============================] - 0s 3ms/step - loss: 0.0018 - acc: 0.7414\n",
            "Epoch 81/100\n",
            "40/40 [==============================] - 0s 3ms/step - loss: 0.0016 - acc: 0.7319\n",
            "Epoch 82/100\n",
            "40/40 [==============================] - 0s 3ms/step - loss: 0.0016 - acc: 0.7366\n",
            "Epoch 83/100\n",
            "40/40 [==============================] - 0s 4ms/step - loss: 0.0017 - acc: 0.7209\n",
            "Epoch 84/100\n",
            "40/40 [==============================] - 0s 3ms/step - loss: 0.0017 - acc: 0.7288\n",
            "Epoch 85/100\n",
            "40/40 [==============================] - 0s 3ms/step - loss: 0.0017 - acc: 0.7280\n",
            "Epoch 86/100\n",
            "40/40 [==============================] - 0s 3ms/step - loss: 0.0018 - acc: 0.7311\n",
            "Epoch 87/100\n",
            "40/40 [==============================] - 0s 3ms/step - loss: 0.0016 - acc: 0.7382\n",
            "Epoch 88/100\n",
            "40/40 [==============================] - 0s 3ms/step - loss: 0.0016 - acc: 0.7280\n",
            "Epoch 89/100\n",
            "40/40 [==============================] - 0s 4ms/step - loss: 0.0017 - acc: 0.7406\n",
            "Epoch 90/100\n",
            "40/40 [==============================] - 0s 4ms/step - loss: 0.0016 - acc: 0.7288\n",
            "Epoch 91/100\n",
            "40/40 [==============================] - 0s 3ms/step - loss: 0.0017 - acc: 0.7358\n",
            "Epoch 92/100\n",
            "40/40 [==============================] - 0s 3ms/step - loss: 0.0017 - acc: 0.7414\n",
            "Epoch 93/100\n",
            "40/40 [==============================] - 0s 3ms/step - loss: 0.0016 - acc: 0.7264\n",
            "Epoch 94/100\n",
            "40/40 [==============================] - 0s 4ms/step - loss: 0.0016 - acc: 0.7469\n",
            "Epoch 95/100\n",
            "40/40 [==============================] - 0s 4ms/step - loss: 0.0017 - acc: 0.7296\n",
            "Epoch 96/100\n",
            "40/40 [==============================] - 0s 4ms/step - loss: 0.0016 - acc: 0.7366\n",
            "Epoch 97/100\n",
            "40/40 [==============================] - 0s 4ms/step - loss: 0.0016 - acc: 0.7445\n",
            "Epoch 98/100\n",
            "40/40 [==============================] - 0s 4ms/step - loss: 0.0016 - acc: 0.7335\n",
            "Epoch 99/100\n",
            "40/40 [==============================] - 0s 5ms/step - loss: 0.0016 - acc: 0.7445\n",
            "Epoch 100/100\n",
            "40/40 [==============================] - 0s 4ms/step - loss: 0.0016 - acc: 0.7335\n"
          ]
        },
        {
          "output_type": "execute_result",
          "data": {
            "text/plain": [
              "<keras.callbacks.History at 0x7f65a41e5e10>"
            ]
          },
          "metadata": {},
          "execution_count": 50
        }
      ]
    },
    {
      "cell_type": "code",
      "metadata": {
        "id": "3UwT7vK2PcFP",
        "colab": {
          "base_uri": "https://localhost:8080/"
        },
        "outputId": "fe0a82cf-58eb-404f-fa57-693c0aa79b4c"
      },
      "source": [
        "# read test dataset\n",
        "testdataset = pd.read_csv('test_data.csv')\n",
        "\n",
        "#get only the temperature column\n",
        "testdataset = testdataset.iloc[:30,0:1].values\n",
        "\n",
        "# Get the actual next 7 outputs of temperature for comparison\n",
        "real_temp = pd.read_csv('test_data.csv')\n",
        "real_temp = real_temp.iloc[30:37,0:1].values\n",
        "\n",
        "testing = sc.transform(testdataset)\n",
        "testing = np.array(testing)\n",
        "testing = np.reshape(testing,(testing.shape[1],testing.shape[0],1))\n",
        "\n",
        "print (testing)"
      ],
      "execution_count": null,
      "outputs": [
        {
          "output_type": "stream",
          "name": "stdout",
          "text": [
            "[[[0.24262285]\n",
            "  [0.57123011]\n",
            "  [0.7751152 ]\n",
            "  [0.8807869 ]\n",
            "  [0.93303632]\n",
            "  [0.94222086]\n",
            "  [0.89679788]\n",
            "  [0.7882808 ]\n",
            "  [0.68905562]\n",
            "  [0.4099226 ]\n",
            "  [0.16777426]\n",
            "  [0.10218868]\n",
            "  [0.2271033 ]\n",
            "  [0.46608702]\n",
            "  [0.65738467]\n",
            "  [0.91992441]\n",
            "  [0.99408209]\n",
            "  [0.9479488 ]\n",
            "  [0.91623655]\n",
            "  [0.8025986 ]\n",
            "  [0.65580298]\n",
            "  [0.47396242]\n",
            "  [0.17674942]\n",
            "  [0.08188194]\n",
            "  [0.13161594]\n",
            "  [0.41727766]\n",
            "  [0.65517526]\n",
            "  [0.84424286]\n",
            "  [0.95400299]\n",
            "  [0.98123861]]]\n"
          ]
        }
      ]
    },
    {
      "cell_type": "code",
      "metadata": {
        "id": "jVDuvdDaPcKB"
      },
      "source": [
        "predicted_temperature = regressor.predict(testing)\n",
        "predicted_temperature = sc.inverse_transform(predicted_temperature)\n",
        "predicted_temperature = np.reshape(predicted_temperature,(predicted_temperature.shape[1],predicted_temperature.shape[0]))"
      ],
      "execution_count": null,
      "outputs": []
    },
    {
      "cell_type": "code",
      "metadata": {
        "id": "XZ1P7ykd6dTn",
        "colab": {
          "base_uri": "https://localhost:8080/"
        },
        "outputId": "2c06f410-08d7-456c-939a-4e61769743a6"
      },
      "source": [
        "print(real_temp, 'Real Temperature')\n",
        "print(predicted_temperature, 'Predicted Temperature')"
      ],
      "execution_count": null,
      "outputs": [
        {
          "output_type": "stream",
          "name": "stdout",
          "text": [
            "[[27.964 ]\n",
            " [25.1985]\n",
            " [20.9427]\n",
            " [15.7487]\n",
            " [10.9512]\n",
            " [ 9.2059]\n",
            " [10.7169]] Real Temperature\n",
            "[[27.490316]\n",
            " [24.844858]\n",
            " [21.021345]\n",
            " [16.139875]\n",
            " [10.739781]\n",
            " [ 8.945537]\n",
            " [11.256235]] Predicted Temperature\n"
          ]
        }
      ]
    },
    {
      "cell_type": "markdown",
      "metadata": {
        "id": "f5Ynta_XhQqu"
      },
      "source": [
        "**TF Started**"
      ]
    },
    {
      "cell_type": "code",
      "metadata": {
        "id": "pmkTOZyQeJqk"
      },
      "source": [
        "tf_model_name = \"temperature_model.h5\""
      ],
      "execution_count": null,
      "outputs": []
    },
    {
      "cell_type": "code",
      "metadata": {
        "id": "7GBtR5A9Pjaj",
        "colab": {
          "base_uri": "https://localhost:8080/"
        },
        "outputId": "4cd9f007-23a5-479b-99c5-d7f7b0594570"
      },
      "source": [
        "regressor.save(tf_model_name)\n",
        "\n",
        "tf_lite_model_file_name = \"tf_lite_model.tflite\"\n",
        "\n",
        "tf_lite_converter = tf.lite.TFLiteConverter.from_keras_model(regressor)\n",
        "tf_lite_converter.optimizations = [tf.lite.Optimize.OPTIMIZE_FOR_SIZE] # optimizing for size \n",
        "tflite_model = tf_lite_converter.convert()\n",
        "\n",
        "tflite_model_name = tf_lite_model_file_name\n",
        "open(tflite_model_name, \"wb\").write(tflite_model)"
      ],
      "execution_count": null,
      "outputs": [
        {
          "output_type": "stream",
          "name": "stderr",
          "text": [
            "WARNING:absl:Optimization option OPTIMIZE_FOR_SIZE is deprecated, please use optimizations=[Optimize.DEFAULT] instead.\n"
          ]
        },
        {
          "output_type": "stream",
          "name": "stdout",
          "text": [
            "INFO:tensorflow:Assets written to: /tmp/tmpt84yd8cm/assets\n"
          ]
        },
        {
          "output_type": "stream",
          "name": "stderr",
          "text": [
            "INFO:tensorflow:Assets written to: /tmp/tmpt84yd8cm/assets\n",
            "WARNING:absl:Optimization option OPTIMIZE_FOR_SIZE is deprecated, please use optimizations=[Optimize.DEFAULT] instead.\n",
            "WARNING:absl:Optimization option OPTIMIZE_FOR_SIZE is deprecated, please use optimizations=[Optimize.DEFAULT] instead.\n"
          ]
        },
        {
          "output_type": "execute_result",
          "data": {
            "text/plain": [
              "27920"
            ]
          },
          "metadata": {},
          "execution_count": 55
        }
      ]
    },
    {
      "cell_type": "code",
      "metadata": {
        "id": "ncF22CiEifvw",
        "colab": {
          "base_uri": "https://localhost:8080/"
        },
        "outputId": "de03d45b-c83f-4512-c486-3b1a8faf5cff"
      },
      "source": [
        "interpreter = tf.lite.Interpreter(tf_lite_model_file_name)\n",
        "\n",
        "input_details = interpreter.get_input_details()\n",
        "output_details = interpreter.get_output_details()\n",
        "\n",
        "print(\"Input Shape:\", input_details[0]['shape'])\n",
        "print(\"Input Type:\", input_details[0]['dtype'])\n",
        "print(\"Output Shape:\", output_details[0]['shape'])\n",
        "print(\"Output Type:\", output_details[0]['dtype'])"
      ],
      "execution_count": null,
      "outputs": [
        {
          "output_type": "stream",
          "name": "stdout",
          "text": [
            "Input Shape: [ 1 30  1]\n",
            "Input Type: <class 'numpy.float32'>\n",
            "Output Shape: [1 7]\n",
            "Output Type: <class 'numpy.float32'>\n"
          ]
        }
      ]
    },
    {
      "cell_type": "code",
      "metadata": {
        "id": "6CylAH0MaHCn",
        "colab": {
          "base_uri": "https://localhost:8080/"
        },
        "outputId": "13a50f0a-764b-422a-cc2b-76bb817f90cc"
      },
      "source": [
        "check = pd.read_csv('test_data.csv')\n",
        "check = check.iloc[:30,0:1].values\n",
        "\n",
        "new_data = np.array(check, dtype=np.float32) # convert to new data type\n",
        "\n",
        "# reshaping data for input to tf lite model\n",
        "testx = sc.transform(new_data)\n",
        "testx = np.array(testx)\n",
        "testx = np.reshape(testx,(testx.shape[1],testx.shape[0],1))\n",
        "\n",
        "# preparing to launch\n",
        "interpreter.allocate_tensors()\n",
        "interpreter.set_tensor(input_details[0]['index'], testx)\n",
        "interpreter.invoke()\n",
        "\n",
        "#pridicting from tf lite model\n",
        "tflite_model_predictions = interpreter.get_tensor(output_details[0]['index'])\n",
        "\n",
        "#taking inverse and reshaping to show actual outputs\n",
        "pt = sc.inverse_transform(tflite_model_predictions)\n",
        "pt = np.reshape(pt,(pt.shape[1],pt.shape[0]))\n",
        "\n",
        "print (real_temp, 'Real Temperature')\n",
        "print(predicted_temperature, 'TF Predicted Temperature')\n",
        "print (pt, 'TF Lite Predicted Temperature')\n"
      ],
      "execution_count": null,
      "outputs": [
        {
          "output_type": "stream",
          "name": "stdout",
          "text": [
            "[[27.964 ]\n",
            " [25.1985]\n",
            " [20.9427]\n",
            " [15.7487]\n",
            " [10.9512]\n",
            " [ 9.2059]\n",
            " [10.7169]] Real Temperature\n",
            "[[27.490316]\n",
            " [24.844858]\n",
            " [21.021345]\n",
            " [16.139875]\n",
            " [10.739781]\n",
            " [ 8.945537]\n",
            " [11.256235]] TF Predicted Temperature\n",
            "[[27.43729 ]\n",
            " [24.903244]\n",
            " [21.165491]\n",
            " [16.073748]\n",
            " [10.608563]\n",
            " [ 8.939726]\n",
            " [11.219491]] TF Lite Predicted Temperature\n"
          ]
        }
      ]
    },
    {
      "cell_type": "code",
      "metadata": {
        "colab": {
          "base_uri": "https://localhost:8080/",
          "height": 820
        },
        "id": "0VvSfPv9kDKE",
        "outputId": "a16eca3d-ead4-4641-d6ce-6ca7f12f37c6"
      },
      "source": [
        "from matplotlib.pyplot import figure\n",
        "figure(figsize=(8, 6), dpi=150)\n",
        "plt.plot(real_temp, color = 'black', label = 'Real Temperature')\n",
        "plt.plot(predicted_temperature, color = 'green', label = 'TF Predicted Temperature')\n",
        "plt.plot(pt, color = 'red', label = 'TF Lite Predicted Temperature')\n",
        "plt.title('Temperature Comparison')\n",
        "plt.xlabel('Days')\n",
        "plt.ylabel('Temperature')\n",
        "plt.legend()\n",
        "plt.show()"
      ],
      "execution_count": null,
      "outputs": [
        {
          "output_type": "display_data",
          "data": {
            "image/png": "[encoded data removed]",
            "text/plain": [
              "<Figure size 1200x900 with 1 Axes>"
            ]
          },
          "metadata": {
            "needs_background": "light"
          }
        }
      ]
    }
  ]
}