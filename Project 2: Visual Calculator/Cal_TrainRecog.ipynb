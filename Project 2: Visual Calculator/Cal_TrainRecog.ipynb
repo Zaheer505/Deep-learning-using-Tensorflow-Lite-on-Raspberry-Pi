{
  "nbformat": 4,
  "nbformat_minor": 0,
  "metadata": {
    "colab": {
      "name": "Cal_TrainRecog.ipynb",
      "provenance": [],
      "collapsed_sections": [],
      "authorship_tag": "ABX9TyNznpq4UlQVAZSH8f8IKkbM",
      "include_colab_link": true
    },
    "kernelspec": {
      "display_name": "Python 3",
      "name": "python3"
    },
    "language_info": {
      "name": "python"
    },
    "accelerator": "TPU"
  },
  "cells": [
    {
      "cell_type": "markdown",
      "metadata": {
        "id": "view-in-github",
        "colab_type": "text"
      },
      "source": [
        "<a href=\"https://colab.research.google.com/github/Zaheer505/Tiny-ML/blob/main/Calculator/Cal_TrainRecog.ipynb\" target=\"_parent\"><img src=\"https://colab.research.google.com/assets/colab-badge.svg\" alt=\"Open In Colab\"/></a>"
      ]
    },
    {
      "cell_type": "code",
      "metadata": {
        "id": "LdSmZnVtlgAU",
        "colab": {
          "base_uri": "https://localhost:8080/"
        },
        "outputId": "37ac38c8-74d1-4ca7-9c4e-7a3343f4ac59"
      },
      "source": [
        "# Load the Drive helper and mount\n",
        "from google.colab import drive\n",
        "\n",
        "# This will prompt for authorization.\n",
        "drive.mount('/content/drive')"
      ],
      "execution_count": 6,
      "outputs": [
        {
          "output_type": "stream",
          "name": "stdout",
          "text": [
            "Drive already mounted at /content/drive; to attempt to forcibly remount, call drive.mount(\"/content/drive\", force_remount=True).\n"
          ]
        }
      ]
    },
    {
      "cell_type": "code",
      "metadata": {
        "id": "XGcTgUNvmdHY",
        "colab": {
          "base_uri": "https://localhost:8080/"
        },
        "outputId": "095a24e2-cb17-4d93-9c54-7e7f0ce524d0"
      },
      "source": [
        "# After executing the cell above, Drive\n",
        "# files will be present in \"/content/drive/My Drive\".\n",
        "!ls \"/content/drive/My Drive\""
      ],
      "execution_count": 7,
      "outputs": [
        {
          "output_type": "stream",
          "name": "stdout",
          "text": [
            "'Colab Notebooks'\n",
            " Data\n",
            " dataset\n",
            " dataset_new\n",
          ]
        }
      ]
    },
    {
      "cell_type": "code",
      "metadata": {
        "id": "lOQP2DEkm6kP"
      },
      "source": [
        "import os\n",
        "os.chdir(\"/content/drive/My Drive/dataset_new\")"
      ],
      "execution_count": 8,
      "outputs": []
    },
    {
      "cell_type": "code",
      "metadata": {
        "id": "EF5Mp9conw9d"
      },
      "source": [
        "# Part 1 - Building the CNN\n",
        "\n",
        "# Importing the Keras libraries and packages\n",
        "from keras.models import Sequential\n",
        "from keras.layers import Conv2D\n",
        "from keras.layers import MaxPooling2D\n",
        "from keras.layers import Flatten\n",
        "from keras.layers import Dense"
      ],
      "execution_count": 9,
      "outputs": []
    },
    {
      "cell_type": "code",
      "metadata": {
        "id": "zDo6FjU_oBjU"
      },
      "source": [
        "# Initialising the CNN\n",
        "classifier = Sequential()\n",
        "\n",
        "# Step 1 - Convolution\n",
        "classifier.add(Conv2D(32, (3, 3), input_shape = (128, 128, 1), activation = 'relu'))\n",
        "classifier.add(MaxPooling2D(pool_size = (2, 2)))\n",
        "\n",
        "classifier.add(Conv2D(64, (3, 3), activation = 'relu'))\n",
        "classifier.add(MaxPooling2D(pool_size = (2, 2)))\n",
        "\n",
        "classifier.add(Conv2D(128, (3, 3), activation = 'relu'))\n",
        "classifier.add(MaxPooling2D(pool_size = (2, 2)))\n",
        "\n",
        "classifier.add(Conv2D(256, (3, 3), activation = 'relu'))\n",
        "classifier.add(MaxPooling2D(pool_size = (2, 2)))\n",
        "\n",
        "classifier.add(Flatten())\n",
        "classifier.add(Dense(units = 1024, activation = 'relu'))\n",
        "classifier.add(Dense(units = 14, activation = 'softmax'))\n",
        "\n",
        "# Compiling the CNN\n",
        "classifier.compile(optimizer = 'adam', loss = 'categorical_crossentropy', metrics = ['accuracy'])"
      ],
      "execution_count": 10,
      "outputs": []
    },
    {
      "cell_type": "code",
      "metadata": {
        "id": "GLnx6WLsoLN4",
        "colab": {
          "base_uri": "https://localhost:8080/"
        },
        "outputId": "c04a518c-b153-4f9e-e4c7-069b1bc6b0cb"
      },
      "source": [
        "# Part 2 - Fitting the CNN to the images\n",
        "\n",
        "from keras.preprocessing.image import ImageDataGenerator\n",
        "\n",
        "train_datagen = ImageDataGenerator(rescale = 1./255)\n",
        "\n",
        "test_datagen = ImageDataGenerator(rescale = 1./255)\n",
        "\n",
        "training_set = train_datagen.flow_from_directory('/content/drive/MyDrive/dataset_new/training set',\n",
        "                                                 target_size = (128, 128),\n",
        "                                                 color_mode = 'grayscale',\n",
        "                                                 batch_size = 32,\n",
        "                                                 class_mode = 'categorical')\n",
        "\n",
        "test_set = test_datagen.flow_from_directory('/content/drive/MyDrive/dataset_new/test set',\n",
        "                                            target_size = (128, 128),\n",
        "                                            color_mode = 'grayscale',\n",
        "                                            batch_size = 32,\n",
        "                                            class_mode = 'categorical')\n"
      ],
      "execution_count": 11,
      "outputs": [
        {
          "output_type": "stream",
          "name": "stdout",
          "text": [
            "Found 15711 images belonging to 14 classes.\n",
            "Found 625 images belonging to 14 classes.\n"
          ]
        }
      ]
    },
    {
      "cell_type": "code",
      "metadata": {
        "id": "GUnwLOlH5RbE",
        "colab": {
          "base_uri": "https://localhost:8080/"
        },
        "outputId": "e43ae3a9-e324-44f7-c759-7a5fd93c42b9"
      },
      "source": [
        "classifier.fit(training_set,\n",
        "               steps_per_epoch = 490,\n",
        "               epochs = 2,\n",
        "               validation_data = test_set,\n",
        "               validation_steps = 19)"
      ],
      "execution_count": 12,
      "outputs": [
        {
          "output_type": "stream",
          "name": "stdout",
          "text": [
            "Epoch 1/2\n",
            "490/490 [==============================] - 2691s 5s/step - loss: 0.3642 - accuracy: 0.8883 - val_loss: 0.0194 - val_accuracy: 0.9918\n",
            "Epoch 2/2\n",
            "490/490 [==============================] - 558s 1s/step - loss: 0.0198 - accuracy: 0.9941 - val_loss: 0.0324 - val_accuracy: 0.9901\n"
          ]
        },
        {
          "output_type": "execute_result",
          "data": {
            "text/plain": [
              "<keras.callbacks.History at 0x7fdf01d99b50>"
            ]
          },
          "metadata": {},
          "execution_count": 12
        }
      ]
    },
    {
      "cell_type": "code",
      "metadata": {
        "id": "FEAXNcJNBSt2",
        "colab": {
          "base_uri": "https://localhost:8080/"
        },
        "outputId": "c01a383d-f709-423d-fb2b-e331876145c9"
      },
      "source": [
        "classifier.summary()"
      ],
      "execution_count": 13,
      "outputs": [
        {
          "output_type": "stream",
          "name": "stdout",
          "text": [
            "Model: \"sequential_1\"\n",
            "_________________________________________________________________\n",
            "Layer (type)                 Output Shape              Param #   \n",
            "=================================================================\n",
            "conv2d_5 (Conv2D)            (None, 126, 126, 32)      320       \n",
            "_________________________________________________________________\n",
            "max_pooling2d_4 (MaxPooling2 (None, 63, 63, 32)        0         \n",
            "_________________________________________________________________\n",
            "conv2d_6 (Conv2D)            (None, 61, 61, 64)        18496     \n",
            "_________________________________________________________________\n",
            "max_pooling2d_5 (MaxPooling2 (None, 30, 30, 64)        0         \n",
            "_________________________________________________________________\n",
            "conv2d_7 (Conv2D)            (None, 28, 28, 128)       73856     \n",
            "_________________________________________________________________\n",
            "max_pooling2d_6 (MaxPooling2 (None, 14, 14, 128)       0         \n",
            "_________________________________________________________________\n",
            "conv2d_8 (Conv2D)            (None, 12, 12, 256)       295168    \n",
            "_________________________________________________________________\n",
            "max_pooling2d_7 (MaxPooling2 (None, 6, 6, 256)         0         \n",
            "_________________________________________________________________\n",
            "flatten_1 (Flatten)          (None, 9216)              0         \n",
            "_________________________________________________________________\n",
            "dense (Dense)                (None, 1024)              9438208   \n",
            "_________________________________________________________________\n",
            "dense_1 (Dense)              (None, 14)                14350     \n",
            "=================================================================\n",
            "Total params: 9,840,398\n",
            "Trainable params: 9,840,398\n",
            "Non-trainable params: 0\n",
            "_________________________________________________________________\n"
          ]
        }
      ]
    },
    {
      "cell_type": "code",
      "metadata": {
        "id": "EHnySuZTBcgg"
      },
      "source": [
        "classifier.save(\"/content/cal_2e2.h5\")"
      ],
      "execution_count": 14,
      "outputs": []
    },
    {
      "cell_type": "code",
      "metadata": {
        "id": "XEb9v30MCLBq"
      },
      "source": [
        "classifier.save_weights(\"/content/cal_weights_2e2.hdf5\")"
      ],
      "execution_count": 15,
      "outputs": []
    },
    {
      "cell_type": "markdown",
      "metadata": {
        "id": "q0c53yOtOvwA"
      },
      "source": [
        "**Recognition**"
      ]
    },
    {
      "cell_type": "code",
      "metadata": {
        "id": "KyUvt38R4Hpy",
        "colab": {
          "base_uri": "https://localhost:8080/"
        },
        "outputId": "78ff3e04-0c9e-4d5c-d19f-8347233f4b51"
      },
      "source": [
        "#Recognition\n",
        "\n",
        "import numpy as np\n",
        "from keras.preprocessing import image\n",
        "\n",
        "test_image = image.load_img('/content/ten1424.jpg', target_size = (128, 128), color_mode='grayscale')\n",
        "test_image = image.img_to_array(test_image)\n",
        "test_image = np.expand_dims(test_image, axis = 0)\n",
        "result = classifier.predict(test_image)\n",
        "tf_prediction = np.argmax(result)\n",
        "print ('TF prediction:', tf_prediction)"
      ],
      "execution_count": 29,
      "outputs": [
        {
          "output_type": "stream",
          "name": "stdout",
          "text": [
            "TF prediction: 1\n"
          ]
        }
      ]
    },
    {
      "cell_type": "code",
      "metadata": {
        "id": "9mJ6QjI391hp",
        "colab": {
          "base_uri": "https://localhost:8080/"
        },
        "outputId": "08e1beae-2e8c-4021-fbf3-6981d6ca2ff5"
      },
      "source": [
        "import os\n",
        "print ('TF Size:', round(os.path.getsize('/content/cal_2e2.h5')/(1024*1024), 3) , 'MB')"
      ],
      "execution_count": 32,
      "outputs": [
        {
          "output_type": "stream",
          "name": "stdout",
          "text": [
            "TF Size: 112.673 MB\n"
          ]
        }
      ]
    },
    {
      "cell_type": "code",
      "metadata": {
        "id": "7erpmPZQ-J76"
      },
      "source": [
        "tf_lite_model_file_name = \"tf_lite_model.tflite\""
      ],
      "execution_count": 33,
      "outputs": []
    },
    {
      "cell_type": "code",
      "metadata": {
        "id": "fdiTLOTg-bFv",
        "colab": {
          "base_uri": "https://localhost:8080/"
        },
        "outputId": "e8c86886-bd08-4f98-e3e7-e2cbfb7d7906"
      },
      "source": [
        "import tensorflow as tf\n",
        "\n",
        "tf_lite_converter = tf.lite.TFLiteConverter.from_keras_model(classifier)\n",
        "tf_lite_converter.optimizations = [tf.lite.Optimize.DEFAULT] # optimizing for size \n",
        "tflite_model = tf_lite_converter.convert()"
      ],
      "execution_count": 64,
      "outputs": [
        {
          "output_type": "stream",
          "name": "stdout",
          "text": [
            "INFO:tensorflow:Assets written to: /tmp/tmpbnljykar/assets\n"
          ]
        },
        {
          "output_type": "stream",
          "name": "stderr",
          "text": [
            "INFO:tensorflow:Assets written to: /tmp/tmpbnljykar/assets\n"
          ]
        }
      ]
    },
    {
      "cell_type": "code",
      "metadata": {
        "id": "hzQr-NOZ-6m_",
        "colab": {
          "base_uri": "https://localhost:8080/"
        },
        "outputId": "360c0723-4d01-4b74-9632-a25a4d16412b"
      },
      "source": [
        "tflite_model_name = tf_lite_model_file_name\n",
        "open(tflite_model_name, \"wb\").write(tflite_model)"
      ],
      "execution_count": 65,
      "outputs": [
        {
          "output_type": "execute_result",
          "data": {
            "text/plain": [
              "9859792"
            ]
          },
          "metadata": {},
          "execution_count": 65
        }
      ]
    },
    {
      "cell_type": "code",
      "metadata": {
        "id": "QfXEqqN2-982",
        "colab": {
          "base_uri": "https://localhost:8080/"
        },
        "outputId": "cacaa9b9-834b-4df6-c896-ddcf5712fccd"
      },
      "source": [
        "print ('TF Lite Size:', round(os.path.getsize(tf_lite_model_file_name)/(1024), 3) , 'KB')"
      ],
      "execution_count": 66,
      "outputs": [
        {
          "output_type": "stream",
          "name": "stdout",
          "text": [
            "TF Lite Size: 9628.703 KB\n"
          ]
        }
      ]
    },
    {
      "cell_type": "code",
      "metadata": {
        "id": "5mxNbknh_Crv",
        "colab": {
          "base_uri": "https://localhost:8080/"
        },
        "outputId": "d4a85819-7940-479d-d7a0-d733418a6d50"
      },
      "source": [
        "interpreter = tf.lite.Interpreter(model_path = tf_lite_model_file_name)\n",
        "input_details = interpreter.get_input_details()\n",
        "output_details = interpreter.get_output_details()\n",
        "print(\"Input Shape:\", input_details[0]['shape'])\n",
        "print(\"Input Type:\", input_details[0]['dtype'])\n",
        "print(\"Output Shape:\", output_details[0]['shape'])\n",
        "print(\"Output Type:\", output_details[0]['dtype'])"
      ],
      "execution_count": 67,
      "outputs": [
        {
          "output_type": "stream",
          "name": "stdout",
          "text": [
            "Input Shape: [  1 128 128   1]\n",
            "Input Type: <class 'numpy.float32'>\n",
            "Output Shape: [ 1 14]\n",
            "Output Type: <class 'numpy.float32'>\n"
          ]
        }
      ]
    },
    {
      "cell_type": "code",
      "metadata": {
        "id": "4mFQhzorABmS",
        "colab": {
          "base_uri": "https://localhost:8080/"
        },
        "outputId": "3bd067df-404e-421e-9c13-19ead8b86273"
      },
      "source": [
        "testx = image.load_img('/content/three1154.jpg', target_size = (128, 128), color_mode='grayscale')\n",
        "testx = image.img_to_array(testx)\n",
        "testx = np.expand_dims(testx, axis = 0)\n",
        "\n",
        "interpreter.allocate_tensors()\n",
        "interpreter.set_tensor(input_details[0]['index'], testx)\n",
        "interpreter.invoke()\n",
        "\n",
        "tflite_model_predictions = interpreter.get_tensor(output_details[0]['index'])\n",
        "tf_lite_prediction = np.argmax(tflite_model_predictions)\n",
        "print ('TF Lite Prediction : ',tf_lite_prediction)"
      ],
      "execution_count": 76,
      "outputs": [
        {
          "output_type": "stream",
          "name": "stdout",
          "text": [
            "TF Lite Prediction :  3\n"
          ]
        }
      ]
    }
  ]
}
