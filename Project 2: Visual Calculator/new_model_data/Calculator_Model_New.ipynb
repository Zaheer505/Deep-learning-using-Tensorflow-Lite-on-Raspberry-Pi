{
  "cells": [
    {
      "cell_type": "markdown",
      "metadata": {
        "id": "o6qqfug8o0Jb"
      },
      "source": [
        "\n",
        "# Contents of This Note Book\n",
        "* Importing Libraries and Data Set\n",
        "* Preprocessing\n",
        "* Model Creation & Training\n",
        "* Saving the Model and its Weights\n",
        "* Model Prediction / Recognition\n",
        "* TF Model to TF Lite Conversion\n",
        "* TF Lite Interpreter\n",
        "* TF Lite Model Prediction"
      ]
    },
    {
      "cell_type": "markdown",
      "metadata": {
        "id": "okHx_cudS8kG"
      },
      "source": [
        "**Importing Libraries**"
      ]
    },
    {
      "cell_type": "code",
      "execution_count": null,
      "metadata": {
        "id": "ME2bHLmWpYs3"
      },
      "outputs": [],
      "source": [
        "import os\n",
        "import numpy as np\n",
        "import matplotlib.pyplot as plt\n",
        "import tensorflow as tf\n",
        "from keras.models import Sequential\n",
        "from keras.layers import Conv2D, MaxPooling2D, Flatten, Dense\n",
        "from keras.preprocessing import image\n",
        "from keras.preprocessing.image import ImageDataGenerator"
      ]
    },
    {
      "cell_type": "markdown",
      "metadata": {
        "id": "j0jBzzljTMzk"
      },
      "source": [
        "**Importing Data Set**"
      ]
    },
    {
      "cell_type": "code",
      "execution_count": null,
      "metadata": {
        "colab": {
          "base_uri": "https://localhost:8080/"
        },
        "id": "LdSmZnVtlgAU",
        "outputId": "c11fac9c-9c29-4333-b0c3-3bfbaed0ef13"
      },
      "outputs": [
        {
          "output_type": "stream",
          "name": "stdout",
          "text": [
            "Drive already mounted at /content/drive; to attempt to forcibly remount, call drive.mount(\"/content/drive\", force_remount=True).\n",
            " cal_dataset\t    dataset\t        Others\t   'Voice Controlled Led'\n",
            "'Colab Notebooks'   dataset_new        'Pics new'  'voice robot'\n",
            " conv_audio\t   'models & weights'   video\t   'Voice Robot raw'\n",
            " Data\t\t    new_voice\t        voice\n"
          ]
        }
      ],
      "source": [
        "# Load the Drive helper and mount\n",
        "from google.colab import drive\n",
        "\n",
        "# This will prompt for authorization.\n",
        "drive.mount('/content/drive')\n",
        "\n",
        "# After executing the cell above, Drive files will be present in\n",
        "# \"/content/drive/My Drive\"\n",
        "\n",
        "!ls \"/content/drive/My Drive\"\n",
        "\n",
        "os.chdir(\"/content/drive/My Drive/cal_dataset\")"
      ]
    },
    {
      "cell_type": "markdown",
      "metadata": {
        "id": "zi6f4RBnTWXK"
      },
      "source": [
        "**Preprocessing**"
      ]
    },
    {
      "cell_type": "code",
      "execution_count": null,
      "metadata": {
        "colab": {
          "base_uri": "https://localhost:8080/"
        },
        "id": "7353WCsDqRBX",
        "outputId": "d1d96fb3-2eae-4240-d4cd-cc2ddee3b3c7"
      },
      "outputs": [
        {
          "output_type": "stream",
          "name": "stdout",
          "text": [
            "Found 8872 images belonging to 13 classes.\n",
            "Found 260 images belonging to 13 classes.\n"
          ]
        }
      ],
      "source": [
        "# normalization\n",
        "train_datagen = ImageDataGenerator(rescale = 1./255)\n",
        "\n",
        "test_datagen = ImageDataGenerator(rescale = 1./255)\n",
        "\n",
        "# preparing data set\n",
        "training_set = train_datagen.flow_from_directory(\n",
        "                                    '/content/drive/MyDrive/cal_dataset/training_set',\n",
        "                                                 target_size = (128, 128),\n",
        "                                                 color_mode = 'grayscale',\n",
        "                                                 batch_size = 32,\n",
        "                                                 class_mode = 'categorical')\n",
        "\n",
        "test_set = test_datagen.flow_from_directory(\n",
        "                                    '/content/drive/MyDrive/cal_dataset/test_set',\n",
        "                                            target_size = (128, 128),\n",
        "                                            color_mode = 'grayscale',\n",
        "                                            batch_size = 32,\n",
        "                                            class_mode = 'categorical')"
      ]
    },
    {
      "cell_type": "markdown",
      "metadata": {
        "id": "_Th3-eZGTloZ"
      },
      "source": [
        "**Model Creation**"
      ]
    },
    {
      "cell_type": "code",
      "execution_count": null,
      "metadata": {
        "colab": {
          "base_uri": "https://localhost:8080/"
        },
        "id": "zDo6FjU_oBjU",
        "outputId": "b43b5c2c-20ac-4cb4-923b-2371c243ee5c"
      },
      "outputs": [
        {
          "output_type": "stream",
          "name": "stdout",
          "text": [
            "Model: \"sequential_1\"\n",
            "_________________________________________________________________\n",
            " Layer (type)                Output Shape              Param #   \n",
            "=================================================================\n",
            " conv2d_4 (Conv2D)           (None, 126, 126, 32)      320       \n",
            "                                                                 \n",
            " max_pooling2d_4 (MaxPooling  (None, 63, 63, 32)       0         \n",
            " 2D)                                                             \n",
            "                                                                 \n",
            " conv2d_5 (Conv2D)           (None, 61, 61, 64)        18496     \n",
            "                                                                 \n",
            " max_pooling2d_5 (MaxPooling  (None, 30, 30, 64)       0         \n",
            " 2D)                                                             \n",
            "                                                                 \n",
            " conv2d_6 (Conv2D)           (None, 28, 28, 128)       73856     \n",
            "                                                                 \n",
            " max_pooling2d_6 (MaxPooling  (None, 14, 14, 128)      0         \n",
            " 2D)                                                             \n",
            "                                                                 \n",
            " conv2d_7 (Conv2D)           (None, 12, 12, 256)       295168    \n",
            "                                                                 \n",
            " max_pooling2d_7 (MaxPooling  (None, 6, 6, 256)        0         \n",
            " 2D)                                                             \n",
            "                                                                 \n",
            " flatten_1 (Flatten)         (None, 9216)              0         \n",
            "                                                                 \n",
            " dense_2 (Dense)             (None, 1024)              9438208   \n",
            "                                                                 \n",
            " dense_3 (Dense)             (None, 13)                13325     \n",
            "                                                                 \n",
            "=================================================================\n",
            "Total params: 9,839,373\n",
            "Trainable params: 9,839,373\n",
            "Non-trainable params: 0\n",
            "_________________________________________________________________\n"
          ]
        }
      ],
      "source": [
        "# initialising the CNN\n",
        "classifier = Sequential()\n",
        "\n",
        "# convolution to extract features from images\n",
        "classifier.add(Conv2D(32, (3, 3), input_shape = (128, 128, 1), activation = 'relu'))\n",
        "\n",
        "# max pooling to get max / largest values in feature map\n",
        "# down sampling technique to get the most present features\n",
        "classifier.add(MaxPooling2D(pool_size = (2, 2)))\n",
        "\n",
        "# more convolution and max pooling layers\n",
        "classifier.add(Conv2D(64, (3, 3), activation = 'relu'))\n",
        "classifier.add(MaxPooling2D(pool_size = (2, 2)))\n",
        "classifier.add(Conv2D(128, (3, 3), activation = 'relu'))\n",
        "classifier.add(MaxPooling2D(pool_size = (2, 2)))\n",
        "classifier.add(Conv2D(256, (3, 3), activation = 'relu'))\n",
        "classifier.add(MaxPooling2D(pool_size = (2, 2)))\n",
        "\n",
        "# flattening is converting the data into a 1-dimensional array\n",
        "classifier.add(Flatten())\n",
        "classifier.add(Dense(units = 1024, activation = 'relu'))\n",
        "classifier.add(Dense(units = 13, activation = 'softmax'))\n",
        "\n",
        "# compiling the CNN\n",
        "classifier.compile(optimizer = 'adam', loss = 'categorical_crossentropy', metrics = ['accuracy'])\n",
        "\n",
        "# show summary of the created model\n",
        "classifier.summary()"
      ]
    },
    {
      "cell_type": "markdown",
      "metadata": {
        "id": "98TtkwjETng_"
      },
      "source": [
        "**Model Training**"
      ]
    },
    {
      "cell_type": "code",
      "execution_count": null,
      "metadata": {
        "colab": {
          "base_uri": "https://localhost:8080/"
        },
        "id": "GUnwLOlH5RbE",
        "outputId": "3632793e-9108-44bb-eae8-99d62608832b"
      },
      "outputs": [
        {
          "output_type": "stream",
          "name": "stdout",
          "text": [
            "Epoch 1/10\n",
            "278/278 [==============================] - 1489s 5s/step - loss: 0.4483 - accuracy: 0.8642 - val_loss: 0.0055 - val_accuracy: 0.9962\n",
            "Epoch 2/10\n",
            "278/278 [==============================] - 321s 1s/step - loss: 0.0244 - accuracy: 0.9947 - val_loss: 0.0013 - val_accuracy: 1.0000\n",
            "Epoch 3/10\n",
            "278/278 [==============================] - 324s 1s/step - loss: 0.0045 - accuracy: 0.9993 - val_loss: 0.0022 - val_accuracy: 1.0000\n",
            "Epoch 4/10\n",
            "278/278 [==============================] - 329s 1s/step - loss: 2.5588e-04 - accuracy: 1.0000 - val_loss: 4.1763e-05 - val_accuracy: 1.0000\n",
            "Epoch 5/10\n",
            "278/278 [==============================] - 321s 1s/step - loss: 3.9790e-05 - accuracy: 1.0000 - val_loss: 2.0446e-05 - val_accuracy: 1.0000\n",
            "Epoch 6/10\n",
            "278/278 [==============================] - 323s 1s/step - loss: 1.4133e-05 - accuracy: 1.0000 - val_loss: 1.0961e-05 - val_accuracy: 1.0000\n",
            "Epoch 7/10\n",
            "278/278 [==============================] - 325s 1s/step - loss: 7.9592e-06 - accuracy: 1.0000 - val_loss: 8.4215e-06 - val_accuracy: 1.0000\n",
            "Epoch 8/10\n",
            "278/278 [==============================] - 325s 1s/step - loss: 5.9043e-06 - accuracy: 1.0000 - val_loss: 6.4919e-06 - val_accuracy: 1.0000\n",
            "Epoch 9/10\n",
            "278/278 [==============================] - 327s 1s/step - loss: 4.5557e-06 - accuracy: 1.0000 - val_loss: 5.2633e-06 - val_accuracy: 1.0000\n",
            "Epoch 10/10\n",
            "278/278 [==============================] - 322s 1s/step - loss: 3.5736e-06 - accuracy: 1.0000 - val_loss: 4.4535e-06 - val_accuracy: 1.0000\n"
          ]
        }
      ],
      "source": [
        "# less epochs because we have large number of data set and data set\n",
        "# is closely related so the model will learn it faster\n",
        "#history = classifier.fit(training_set,\n",
        "#               steps_per_epoch = 100,\n",
        "#               epochs = 3,\n",
        "#               validation_data = test_set,\n",
        "#               validation_steps = 2)\n",
        "\n",
        "history = classifier.fit(training_set,\n",
        "               epochs = 10,\n",
        "               validation_data = test_set,\n",
        "               callbacks=tf.keras.callbacks.EarlyStopping(verbose=1, patience=2)\n",
        "               )"
      ]
    },
    {
      "cell_type": "code",
      "execution_count": null,
      "metadata": {
        "id": "GHyRblzEPEL8",
        "colab": {
          "base_uri": "https://localhost:8080/",
          "height": 265
        },
        "outputId": "80f7823d-64f1-43e0-8980-1090d9f60293"
      },
      "outputs": [
        {
          "output_type": "display_data",
          "data": {
            "text/plain": [
              "<Figure size 432x288 with 1 Axes>"
            ],
            "image/png": "[encoded data removed]"
          },
          "metadata": {
            "needs_background": "light"
          }
        }
      ],
      "source": [
        "metrics = history.history\n",
        "plt.plot(history.epoch, metrics['loss'], metrics['val_loss'])\n",
        "plt.legend(['loss', 'val_loss'])\n",
        "plt.show()"
      ]
    },
    {
      "cell_type": "code",
      "execution_count": null,
      "metadata": {
        "id": "t7Sjp40GPHZc",
        "colab": {
          "base_uri": "https://localhost:8080/",
          "height": 265
        },
        "outputId": "f705b27b-fedc-4956-bc89-2ec0610f2254"
      },
      "outputs": [
        {
          "output_type": "display_data",
          "data": {
            "text/plain": [
              "<Figure size 432x288 with 1 Axes>"
            ],
            "image/png": "[encoded data removed]"
          },
          "metadata": {
            "needs_background": "light"
          }
        }
      ],
      "source": [
        "metrics = history.history\n",
        "plt.plot(history.epoch, metrics['accuracy'], metrics['val_accuracy'])\n",
        "plt.legend(['accuracy', 'val_accuracy'])\n",
        "plt.show()"
      ]
    },
    {
      "cell_type": "markdown",
      "metadata": {
        "id": "n6yTWk0pTsWm"
      },
      "source": [
        "**Saving Model & Weights**"
      ]
    },
    {
      "cell_type": "code",
      "execution_count": null,
      "metadata": {
        "id": "FEAXNcJNBSt2"
      },
      "outputs": [],
      "source": [
        "# Saving Model and Weights which can be used later without training \n",
        "classifier.save(\"/content/cal_model_new10e.h5\")\n",
        "classifier.save_weights(\"/content/cal_model_new_weights10e.hdf5\")"
      ]
    },
    {
      "cell_type": "markdown",
      "source": [
        "**Model Size Check**"
      ],
      "metadata": {
        "id": "KO6T0wcyCLal"
      }
    },
    {
      "cell_type": "code",
      "source": [
        "# printing model size in mb\n",
        "print ('TF Size:', round(os.path.getsize('/content/cal_model_new10e.h5')/(1024*1024), 3) , 'MB')"
      ],
      "metadata": {
        "colab": {
          "base_uri": "https://localhost:8080/"
        },
        "id": "9XpD8hSvCPf_",
        "outputId": "f0bc40eb-4ce5-459b-c849-2ec1d90c9854"
      },
      "execution_count": null,
      "outputs": [
        {
          "output_type": "stream",
          "name": "stdout",
          "text": [
            "TF Size: 112.662 MB\n"
          ]
        }
      ]
    },
    {
      "cell_type": "markdown",
      "metadata": {
        "id": "q0c53yOtOvwA"
      },
      "source": [
        "**Recognition / Prediction**"
      ]
    },
    {
      "cell_type": "code",
      "execution_count": null,
      "metadata": {
        "id": "KyUvt38R4Hpy",
        "colab": {
          "base_uri": "https://localhost:8080/"
        },
        "outputId": "6f38a7ae-25a9-4eba-c5f4-84eebbf81428"
      },
      "outputs": [
        {
          "output_type": "stream",
          "name": "stdout",
          "text": [
            "TF prediction: 5\n",
            "TF Size: 112.662 MB\n"
          ]
        }
      ],
      "source": [
        "# test images are manually upload from the 'files' tab on the left side\n",
        "# classification models take much time to train, so we can train them one time \n",
        "#   and can load them for prediction\n",
        "# ***load the model first for recognition directly*** \n",
        "\n",
        "test_image = image.load_img('/content/40.jpg', target_size = (128, 128), color_mode='grayscale')\n",
        "test_image = image.img_to_array(test_image)\n",
        "test_image = np.expand_dims(test_image, axis = 0)\n",
        "result = classifier.predict(test_image)\n",
        "tf_prediction = np.argmax(result)\n",
        "print ('TF prediction:', tf_prediction)"
      ]
    },
    {
      "cell_type": "markdown",
      "metadata": {
        "id": "z_c_FMlNq3c9"
      },
      "source": [
        "# TF Lite Started"
      ]
    },
    {
      "cell_type": "markdown",
      "metadata": {
        "id": "LzQPEJWtrfbM"
      },
      "source": [
        "**TF Model to TF Lite Conversion**"
      ]
    },
    {
      "cell_type": "code",
      "execution_count": null,
      "metadata": {
        "id": "fdiTLOTg-bFv",
        "colab": {
          "base_uri": "https://localhost:8080/"
        },
        "outputId": "cd4c75cf-91e5-4d8c-a5b5-dfc804a8c77f"
      },
      "outputs": [
        {
          "output_type": "stream",
          "name": "stdout",
          "text": [
            "INFO:tensorflow:Assets written to: /tmp/tmp3vg9hmkh/assets\n"
          ]
        },
        {
          "output_type": "stream",
          "name": "stderr",
          "text": [
            "WARNING:absl:Buffer deduplication procedure will be skipped when flatbuffer library is not properly loaded\n"
          ]
        }
      ],
      "source": [
        "# convert & optimize the model\n",
        "converter = tf.lite.TFLiteConverter.from_keras_model(classifier)\n",
        "converter.optimization = [tf.lite.Optimize.OPTIMIZE_FOR_SIZE]\n",
        "tflite_model = converter.convert()"
      ]
    },
    {
      "cell_type": "markdown",
      "metadata": {
        "id": "IaaQsKu0rjMZ"
      },
      "source": [
        "**TF Lite Model Saving & Size Check**"
      ]
    },
    {
      "cell_type": "code",
      "execution_count": null,
      "metadata": {
        "id": "hzQr-NOZ-6m_",
        "colab": {
          "base_uri": "https://localhost:8080/"
        },
        "outputId": "03400185-a669-4301-cedb-24f72bafea47"
      },
      "outputs": [
        {
          "output_type": "stream",
          "name": "stdout",
          "text": [
            "TF Lite Size: 38439.242 KB\n"
          ]
        }
      ],
      "source": [
        "# save the model\n",
        "open('tflite_model.tflite', 'wb').write(tflite_model)\n",
        "\n",
        "# model size check\n",
        "print ('TF Lite Size:', round(os.path.getsize('tflite_model.tflite')/(1024), 3) , 'KB')"
      ]
    },
    {
      "cell_type": "markdown",
      "metadata": {
        "id": "iHpWPETGr-XE"
      },
      "source": [
        "**Interpreter**"
      ]
    },
    {
      "cell_type": "code",
      "execution_count": null,
      "metadata": {
        "id": "5mxNbknh_Crv",
        "colab": {
          "base_uri": "https://localhost:8080/"
        },
        "outputId": "6f3a8a1d-7aca-45ba-c0cb-e80bec664bc5"
      },
      "outputs": [
        {
          "output_type": "stream",
          "name": "stdout",
          "text": [
            "Input Shape: [  1 128 128   1]\n",
            "Input Type: <class 'numpy.float32'>\n",
            "Output Shape: [ 1 13]\n",
            "Output Type: <class 'numpy.float32'>\n"
          ]
        }
      ],
      "source": [
        "# 'interpreter' to interpret tf lite model and to get input & output details\n",
        "# models obtained from 'TfLiteConverter' can be run in python with 'interpreter'\n",
        "interpreter = tf.lite.Interpreter('tflite_model.tflite')\n",
        "\n",
        "input_details = interpreter.get_input_details()\n",
        "output_details = interpreter.get_output_details()\n",
        "\n",
        "# print input & output values & shapes to check everything is same \n",
        "# as the orignal tf model.\n",
        "# data types etc are changed during tf lite conversion & optimizations\n",
        "print(\"Input Shape:\", input_details[0]['shape'])\n",
        "print(\"Input Type:\", input_details[0]['dtype'])\n",
        "print(\"Output Shape:\", output_details[0]['shape'])\n",
        "print(\"Output Type:\", output_details[0]['dtype'])"
      ]
    },
    {
      "cell_type": "markdown",
      "metadata": {
        "id": "yOC9vPUSsMRA"
      },
      "source": [
        "**Prediction from TF Lite Model**"
      ]
    },
    {
      "cell_type": "code",
      "execution_count": null,
      "metadata": {
        "id": "4mFQhzorABmS",
        "colab": {
          "base_uri": "https://localhost:8080/"
        },
        "outputId": "ddba84a4-f161-465e-9843-7efc1eb5fdcb"
      },
      "outputs": [
        {
          "output_type": "stream",
          "name": "stdout",
          "text": [
            "TF Lite Prediction :  5\n"
          ]
        }
      ],
      "source": [
        "testx = image.load_img('/content/40.jpg', target_size = (128, 128), color_mode='grayscale')\n",
        "testx = image.img_to_array(testx)\n",
        "testx = np.expand_dims(testx, axis = 0)\n",
        "\n",
        "# needed before execution\n",
        "# tensorFlow lite pre-plans tensor allocations to optimize inference,\n",
        "# so the user needs to call allocate_tensors() before any inference.\n",
        "interpreter.allocate_tensors()\n",
        "interpreter.set_tensor(input_details[0]['index'], testx)\n",
        "interpreter.invoke()\n",
        "\n",
        "# predicting from tf lite model\n",
        "tflite_model_predictions = interpreter.get_tensor(output_details[0]['index'])\n",
        "\n",
        "# getting max index \n",
        "tf_lite_prediction = np.argmax(tflite_model_predictions)\n",
        "print ('TF Lite Prediction : ',tf_lite_prediction)"
      ]
    }
  ],
  "metadata": {
    "accelerator": "TPU",
    "colab": {
      "collapsed_sections": [],
      "name": "Calculator_Model_New2.ipynb",
      "provenance": []
    },
    "gpuClass": "standard",
    "kernelspec": {
      "display_name": "Python 3",
      "name": "python3"
    },
    "language_info": {
      "name": "python"
    }
  },
  "nbformat": 4,
  "nbformat_minor": 0
}