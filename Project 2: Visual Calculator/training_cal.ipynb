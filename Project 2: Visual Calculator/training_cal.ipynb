{
  "nbformat": 4,
  "nbformat_minor": 0,
  "metadata": {
    "accelerator": "TPU",
    "colab": {
      "name": "training_cal.ipynb",
      "provenance": [],
      "collapsed_sections": []
    },
    "kernelspec": {
      "display_name": "Python 3",
      "name": "python3"
    },
    "language_info": {
      "name": "python"
    }
  },
  "cells": [
    {
      "cell_type": "code",
      "metadata": {
        "colab": {
          "base_uri": "https://localhost:8080/"
        },
        "id": "LdSmZnVtlgAU",
        "outputId": "cdf7c580-12fe-49d6-8fe9-1542cc74d06b"
      },
      "source": [
        "# Load the Drive helper and mount\n",
        "from google.colab import drive\n",
        "\n",
        "# This will prompt for authorization.\n",
        "drive.mount('/content/drive')"
      ],
      "execution_count": null,
      "outputs": [
        {
          "name": "stdout",
          "output_type": "stream",
          "text": [
            "Drive already mounted at /content/drive; to attempt to forcibly remount, call drive.mount(\"/content/drive\", force_remount=True).\n"
          ]
        }
      ]
    },
    {
      "cell_type": "code",
      "metadata": {
        "colab": {
          "base_uri": "https://localhost:8080/"
        },
        "id": "XGcTgUNvmdHY",
        "outputId": "345dd85e-7a81-46f9-c00d-102f8c7d0b74"
      },
      "source": [
        "# After executing the cell above, Drive\n",
        "# files will be present in \"/content/drive/My Drive\".\n",
        "!ls \"/content/drive/My Drive\""
      ],
      "execution_count": null,
      "outputs": [
        {
          "name": "stdout",
          "output_type": "stream",
          "text": [
            "'Colab Notebooks'   Data   dataset  'Huawei Apps'   images,etc\t Purple   video\n"
          ]
        }
      ]
    },
    {
      "cell_type": "code",
      "metadata": {
        "id": "lOQP2DEkm6kP"
      },
      "source": [
        "import os\n",
        "os.chdir(\"/content/drive/My Drive/dataset\")"
      ],
      "execution_count": null,
      "outputs": []
    },
    {
      "cell_type": "code",
      "metadata": {
        "id": "EF5Mp9conw9d"
      },
      "source": [
        "# Part 1 - Building the CNN\n",
        "\n",
        "# Importing the Keras libraries and packages\n",
        "from keras.models import Sequential\n",
        "from keras.layers import Conv2D\n",
        "from keras.layers import Flatten\n",
        "from keras.layers import Dense"
      ],
      "execution_count": null,
      "outputs": []
    },
    {
      "cell_type": "code",
      "metadata": {
        "id": "zDo6FjU_oBjU"
      },
      "source": [
        "# Initialising the CNN\n",
        "classifier = Sequential()\n",
        "\n",
        "# Step 1 - Convolution\n",
        "classifier.add(Conv2D(16, (3, 3), input_shape = (32, 32, 1), activation = 'relu'))\n",
        "classifier.add(Conv2D(32, (3, 3), activation = 'relu'))\n",
        "classifier.add(Conv2D(64, (3, 3), activation = 'relu'))\n",
        "classifier.add(Conv2D(128, (3, 3), activation = 'relu'))\n",
        "\n",
        "classifier.add(Flatten())\n",
        "\n",
        "classifier.add(Dense(units = 15, activation = 'softmax'))\n",
        "\n",
        "# Compiling the CNN\n",
        "classifier.compile(optimizer = 'adam', loss = 'categorical_crossentropy', metrics = ['accuracy'])"
      ],
      "execution_count": null,
      "outputs": []
    },
    {
      "cell_type": "code",
      "metadata": {
        "colab": {
          "base_uri": "https://localhost:8080/"
        },
        "id": "GLnx6WLsoLN4",
        "outputId": "fc7132ba-9786-429e-edd6-c7a38335e39b"
      },
      "source": [
        "# Part 2 - Fitting the CNN to the images\n",
        "\n",
        "from keras.preprocessing.image import ImageDataGenerator\n",
        "\n",
        "train_datagen = ImageDataGenerator(rescale = 1./255)\n",
        "\n",
        "test_datagen = ImageDataGenerator(rescale = 1./255)\n",
        "\n",
        "training_set = train_datagen.flow_from_directory('/content/drive/MyDrive/dataset/training_set',\n",
        "                                                 target_size = (32, 32),\n",
        "                                                 color_mode = 'grayscale',\n",
        "                                                 batch_size = 32,\n",
        "                                                 class_mode = 'categorical')\n",
        "\n",
        "test_set = test_datagen.flow_from_directory('/content/drive/MyDrive/dataset/test_set',\n",
        "                                            target_size = (32, 32),\n",
        "                                            color_mode = 'grayscale',\n",
        "                                            batch_size = 32,\n",
        "                                            class_mode = 'categorical')\n"
      ],
      "execution_count": null,
      "outputs": [
        {
          "name": "stdout",
          "output_type": "stream",
          "text": [
            "Found 7044 images belonging to 15 classes.\n",
            "Found 934 images belonging to 15 classes.\n"
          ]
        }
      ]
    },
    {
      "cell_type": "code",
      "metadata": {
        "colab": {
          "background_save": true,
          "base_uri": "https://localhost:8080/"
        },
        "id": "5ZEqLL6rr4gh",
        "outputId": "2956a67e-1e2b-494a-b1cc-4b46d161ba65"
      },
      "source": [
        "classifier.fit(training_set,\n",
        "               steps_per_epoch = 220,\n",
        "               epochs = 5,\n",
        "               validation_data = test_set,\n",
        "               validation_steps = 29)"
      ],
      "execution_count": null,
      "outputs": [
        {
          "name": "stdout",
          "output_type": "stream",
          "text": [
            "Epoch 1/5\n",
            "220/220 [==============================] - 1587s 7s/step - loss: 1.2271 - accuracy: 0.6226 - val_loss: 0.6891 - val_accuracy: 0.8039\n",
            "Epoch 2/5\n",
            "220/220 [==============================] - 72s 327ms/step - loss: 0.4809 - accuracy: 0.8544 - val_loss: 0.5543 - val_accuracy: 0.8416\n",
            "Epoch 3/5\n",
            "220/220 [==============================] - 72s 326ms/step - loss: 0.2744 - accuracy: 0.9154 - val_loss: 0.3885 - val_accuracy: 0.8879\n",
            "Epoch 4/5\n",
            "220/220 [==============================] - 72s 327ms/step - loss: 0.1781 - accuracy: 0.9421 - val_loss: 0.4044 - val_accuracy: 0.9052\n",
            "Epoch 5/5\n",
            "220/220 [==============================] - 72s 326ms/step - loss: 0.0886 - accuracy: 0.9738 - val_loss: 0.4145 - val_accuracy: 0.9019\n"
          ]
        },
        {
          "data": {
            "text/plain": [
              "<keras.callbacks.History at 0x7f7822107c50>"
            ]
          },
          "execution_count": null,
          "metadata": {},
          "output_type": "execute_result"
        }
      ]
    },
    {
      "cell_type": "code",
      "metadata": {
        "colab": {
          "base_uri": "https://localhost:8080/"
        },
        "id": "FEAXNcJNBSt2",
        "outputId": "01f427c1-7601-4979-8ed2-41853a0d34de"
      },
      "source": [
        "classifier.summary()"
      ],
      "execution_count": null,
      "outputs": [
        {
          "name": "stdout",
          "output_type": "stream",
          "text": [
            "Model: \"sequential_2\"\n",
            "_________________________________________________________________\n",
            "Layer (type)                 Output Shape              Param #   \n",
            "=================================================================\n",
            "conv2d_8 (Conv2D)            (None, 30, 30, 16)        160       \n",
            "_________________________________________________________________\n",
            "conv2d_9 (Conv2D)            (None, 28, 28, 32)        4640      \n",
            "_________________________________________________________________\n",
            "conv2d_10 (Conv2D)           (None, 26, 26, 64)        18496     \n",
            "_________________________________________________________________\n",
            "conv2d_11 (Conv2D)           (None, 24, 24, 128)       73856     \n",
            "_________________________________________________________________\n",
            "flatten_2 (Flatten)          (None, 73728)             0         \n",
            "_________________________________________________________________\n",
            "dense_2 (Dense)              (None, 15)                1105935   \n",
            "=================================================================\n",
            "Total params: 1,203,087\n",
            "Trainable params: 1,203,087\n",
            "Non-trainable params: 0\n",
            "_________________________________________________________________\n"
          ]
        }
      ]
    },
    {
      "cell_type": "code",
      "metadata": {
        "id": "EHnySuZTBcgg"
      },
      "source": [
        "classifier.save(\"/content/calculator.h5\")"
      ],
      "execution_count": null,
      "outputs": []
    },
    {
      "cell_type": "code",
      "metadata": {
        "id": "XEb9v30MCLBq"
      },
      "source": [
        "classifier.save_weights(\"/content/cal_weights.hdf5\")"
      ],
      "execution_count": null,
      "outputs": []
    }
  ]
}