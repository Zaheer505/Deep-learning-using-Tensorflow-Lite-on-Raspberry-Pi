{
  "nbformat": 4,
  "nbformat_minor": 0,
  "metadata": {
    "colab": {
      "name": "Temperature_Model.ipynb",
      "provenance": [],
      "collapsed_sections": []
    },
    "kernelspec": {
      "name": "python3",
      "display_name": "Python 3"
    },
    "language_info": {
      "name": "python"
    }
  },
  "cells": [
    {
      "cell_type": "markdown",
      "metadata": {
        "id": "Sg7mhsMrplrP"
      },
      "source": [
        "# Contents of This Note Book:\n",
        "* Importing Libraries and Data Set\n",
        "* Normalizing Data Set (aka Preprocessing)\n",
        "* Code for past & future values as inputs & outputs\n",
        "* Model Creation & Training\n",
        "* Model Prediction & Accuracy Check\n",
        "* TF Model to TF Lite Conversion\n",
        "* TF Lite Interpreter\n",
        "* TF Lite Model Prediction\n",
        "* Comparison of TF, TF Lite & Orignal Values\n",
        "* *** Created by Zaheer Ahmed ***\n"
      ]
    },
    {
      "cell_type": "markdown",
      "metadata": {
        "id": "lWnxim3WqRhM"
      },
      "source": [
        "**Importing Libraries**"
      ]
    },
    {
      "cell_type": "code",
      "metadata": {
        "id": "UulDKKmWqfNO"
      },
      "source": [
        "import numpy as np\n",
        "import matplotlib.pyplot as plt\n",
        "import pandas as pd\n",
        "import os \n",
        "from sklearn.preprocessing import MinMaxScaler\n",
        "from keras.models import Sequential\n",
        "from keras.layers import Dense , Flatten\n",
        "import tensorflow as tf\n",
        "print(tf.__version__)"
      ],
      "execution_count": null,
      "outputs": []
    },
    {
      "cell_type": "markdown",
      "metadata": {
        "id": "VEtG2bImq-kW"
      },
      "source": [
        "**Importing Data Set**"
      ]
    },
    {
      "cell_type": "code",
      "metadata": {
        "id": "XOulq2WiXwhQ"
      },
      "source": [
        "# uploading training data and test data files\n",
        "# these files can be uploaded manually without writing this code ( by files tab\n",
        "# on the left side )\n",
        "\n",
        "from google.colab import files\n",
        "data = files.upload()\n",
        "test_data = files.upload()\n",
        "\n",
        "# import dataset from data.csv file\n",
        "dataset = pd.read_csv('data.csv')\n",
        "\n",
        "# read values from all rows and temperature column\n",
        "training_set = dataset.iloc[:,0:1].values"
      ],
      "execution_count": null,
      "outputs": []
    },
    {
      "cell_type": "markdown",
      "metadata": {
        "id": "F-PcJcpkrK2C"
      },
      "source": [
        "**Preprocessing**"
      ]
    },
    {
      "cell_type": "code",
      "metadata": {
        "id": "dsE4jG9ePSUm"
      },
      "source": [
        "# feature scaling / normalization\n",
        "sc = MinMaxScaler(feature_range=(0,1))\n",
        "training_set_scaled = sc.fit_transform(training_set,)"
      ],
      "execution_count": null,
      "outputs": []
    },
    {
      "cell_type": "markdown",
      "metadata": {
        "id": "yY2aCFeBrW2M"
      },
      "source": [
        "**Data Creation**\n",
        "\n",
        "Using 30 values as input and using next 7 values as output for training.\n",
        "\n",
        "E.g: Suppose our data set consists of 1 to 1000 numbers.\n",
        "\n",
        "In the first step, the number 1 to 30 are inputs and the next 7 numbers are outputs (31,32,...37).\n",
        "\n",
        "In the next step, the numbers 2 to 31 are inputs and 32,33,...,38 are outputs.\n",
        "\n",
        "The model keeps on learning the future 7 values from the past 30 values.\n",
        "\n",
        "In this way, we can predict the future values of temperature from the past values. "
      ]
    },
    {
      "cell_type": "code",
      "metadata": {
        "id": "OssPKUvLPTot"
      },
      "source": [
        "x_train = []\n",
        "y_train = []\n",
        "\n",
        "future = 7  # next 7 days temperature forecast\n",
        "past = 30   # past 30 days \n",
        "\n",
        "for i in range(0,len(training_set_scaled)- past - future + 1):\n",
        "    x_train.append(training_set_scaled[i : i + past , 0])     \n",
        "    y_train.append(training_set_scaled[i + past : i + past + future , 0 ])\n",
        "    \n",
        "x_train , y_train = np.array(x_train), np.array(y_train)\n",
        "x_train = np.reshape(x_train, (x_train.shape[0] , x_train.shape[1], 1) )"
      ],
      "execution_count": null,
      "outputs": []
    },
    {
      "cell_type": "markdown",
      "metadata": {
        "id": "tl8q4UY3vXuo"
      },
      "source": [
        "**Model Creation and Training**"
      ]
    },
    {
      "cell_type": "code",
      "metadata": {
        "id": "e9eCUxBTPcAV"
      },
      "source": [
        "regressor = Sequential()\n",
        "\n",
        "regressor.add((Dense(units=30, input_shape = (x_train.shape[1],1) )))\n",
        "regressor.add(Dense(units=30 , activation='relu'))\n",
        "regressor.add(Dense(units=30 , activation='relu'))\n",
        "regressor.add(Dense(units=30 , activation='relu'))\n",
        "regressor.add(Flatten())\n",
        "regressor.add(Dense(units = future))\n",
        "\n",
        "regressor.compile(optimizer='adam', loss='mean_squared_error',metrics=['acc'])\n",
        "\n",
        "regressor.fit(x_train, y_train, epochs=100,batch_size=32 )"
      ],
      "execution_count": null,
      "outputs": []
    },
    {
      "cell_type": "markdown",
      "metadata": {
        "id": "aMXPTVNgvff8"
      },
      "source": [
        "**Model Prediction and Accuracy Check**"
      ]
    },
    {
      "cell_type": "code",
      "metadata": {
        "id": "3UwT7vK2PcFP"
      },
      "source": [
        "# read test dataset\n",
        "testdataset = pd.read_csv('test_data.csv')\n",
        "\n",
        "# get only the temperature column\n",
        "testdataset = testdataset.iloc[:30,0:1].values\n",
        "\n",
        "# get the actual next 7 outputs of temperature for comparison\n",
        "real_temp = pd.read_csv('test_data.csv')\n",
        "real_temp = real_temp.iloc[30:37,0:1].values\n",
        "\n",
        "# normalization to make prediction\n",
        "testing = sc.transform(testdataset)\n",
        "testing = np.array(testing)\n",
        "testing = np.reshape(testing,(testing.shape[1],testing.shape[0],1))"
      ],
      "execution_count": null,
      "outputs": []
    },
    {
      "cell_type": "code",
      "metadata": {
        "id": "jVDuvdDaPcKB"
      },
      "source": [
        "# prediction and denormalization to get actual outputs\n",
        "predicted_temperature = regressor.predict(testing)\n",
        "predicted_temperature = sc.inverse_transform(predicted_temperature)\n",
        "predicted_temperature = np.reshape(predicted_temperature,(predicted_temperature.shape[1],predicted_temperature.shape[0]))"
      ],
      "execution_count": null,
      "outputs": []
    },
    {
      "cell_type": "code",
      "metadata": {
        "id": "XZ1P7ykd6dTn"
      },
      "source": [
        "# real and predicted Values\n",
        "print(real_temp, 'Real Temperature')\n",
        "print(predicted_temperature, 'Predicted Temperature')"
      ],
      "execution_count": null,
      "outputs": []
    },
    {
      "cell_type": "markdown",
      "metadata": {
        "id": "KUgU6QKgxXr0"
      },
      "source": [
        "**Model Saving & Size Check**"
      ]
    },
    {
      "cell_type": "code",
      "metadata": {
        "id": "-VLR-BVKxgO-"
      },
      "source": [
        "regressor.save(\"temperature_model.h5\")\n",
        "print ('TF Size:', round(os.path.getsize(\"temperature_model.h5\")/(1024), 3) , 'KB')"
      ],
      "execution_count": null,
      "outputs": []
    },
    {
      "cell_type": "markdown",
      "metadata": {
        "id": "f5Ynta_XhQqu"
      },
      "source": [
        "# TF Lite Started"
      ]
    },
    {
      "cell_type": "markdown",
      "metadata": {
        "id": "6hodpchP1vuM"
      },
      "source": [
        "**TF Model to TF Lite Conversion**"
      ]
    },
    {
      "cell_type": "code",
      "metadata": {
        "id": "7GBtR5A9Pjaj"
      },
      "source": [
        "# convert & optimize the model\n",
        "converter = tf.lite.TFLiteConverter.from_keras_model(regressor)\n",
        "converter.optimization = [tf.lite.Optimize.OPTIMIZE_FOR_SIZE]\n",
        "tflite_model = converter.convert()"
      ],
      "execution_count": null,
      "outputs": []
    },
    {
      "cell_type": "markdown",
      "metadata": {
        "id": "sKic9z8jWomO"
      },
      "source": [
        "**TF Lite Model Saving & Size Check**"
      ]
    },
    {
      "cell_type": "code",
      "metadata": {
        "id": "VS0MWE-6W58-"
      },
      "source": [
        "# save the model\n",
        "open('tflite_model.tflite', 'wb').write(tflite_model)\n",
        "\n",
        "# model size check\n",
        "print ('TF Lite Size:', round(os.path.getsize('tflite_model.tflite')/(1024), 3) , 'KB')"
      ],
      "execution_count": null,
      "outputs": []
    },
    {
      "cell_type": "markdown",
      "metadata": {
        "id": "Xlyx1JAl14u2"
      },
      "source": [
        "**Interpreter**"
      ]
    },
    {
      "cell_type": "code",
      "metadata": {
        "id": "ncF22CiEifvw"
      },
      "source": [
        "# 'interpreter' to interpret tf lite model and to get input & output details\n",
        "# models obtained from 'TfLiteConverter' can be run in python with 'interpreter'\n",
        "interpreter = tf.lite.Interpreter('tflite_model.tflite')\n",
        "\n",
        "input_details = interpreter.get_input_details()\n",
        "output_details = interpreter.get_output_details()\n",
        "\n",
        "# print input & output values & shapes to check everything is same \n",
        "# as the orignal tf model.\n",
        "# data types etc are changed during tf lite conversion & optimizations\n",
        "print(\"Input Shape:\", input_details[0]['shape'])\n",
        "print(\"Input Type:\", input_details[0]['dtype'])\n",
        "print(\"Output Shape:\", output_details[0]['shape'])\n",
        "print(\"Output Type:\", output_details[0]['dtype'])"
      ],
      "execution_count": null,
      "outputs": []
    },
    {
      "cell_type": "markdown",
      "metadata": {
        "id": "GrRO1VVc3e47"
      },
      "source": [
        "**Prediction from TF Lite Model**"
      ]
    },
    {
      "cell_type": "code",
      "metadata": {
        "id": "6CylAH0MaHCn"
      },
      "source": [
        "check = pd.read_csv('test_data.csv')\n",
        "check = check.iloc[:30,0:1].values\n",
        "\n",
        "# convert to new data type as orignal was float64\n",
        "new_data = np.array(check, dtype=np.float32)\n",
        "\n",
        "# reshaping data for input to tf lite model\n",
        "testx = sc.transform(new_data)\n",
        "testx = np.array(testx)\n",
        "testx = np.reshape(testx,(testx.shape[1],testx.shape[0],1))\n",
        "\n",
        "# needed before execution\n",
        "# tensorFlow lite pre-plans tensor allocations to optimize inference,\n",
        "# so the user needs to call allocate_tensors() before any inference.\n",
        "interpreter.allocate_tensors()\n",
        "interpreter.set_tensor(input_details[0]['index'], testx)\n",
        "interpreter.invoke()\n",
        "\n",
        "# predicting from tf lite model\n",
        "tflite_model_predictions = interpreter.get_tensor(output_details[0]['index'])\n",
        "\n",
        "# denormization and reshaping to show actual outputs\n",
        "pt = sc.inverse_transform(tflite_model_predictions)\n",
        "pt = np.reshape(pt,(pt.shape[1],pt.shape[0]))\n",
        "\n",
        "print (real_temp, 'Real Temperature')\n",
        "print (predicted_temperature, 'TF Predicted Temperature')\n",
        "print (pt, 'TF Lite Predicted Temperature')\n"
      ],
      "execution_count": null,
      "outputs": []
    },
    {
      "cell_type": "markdown",
      "metadata": {
        "id": "OIFKkVbk3Yfv"
      },
      "source": [
        "**Plotting Results for Comparison**"
      ]
    },
    {
      "cell_type": "code",
      "metadata": {
        "id": "0VvSfPv9kDKE"
      },
      "source": [
        "from matplotlib.pyplot import figure\n",
        "figure(figsize=(7, 5), dpi=150)\n",
        "plt.plot(real_temp, color = 'black', label = 'Real Temperature')\n",
        "plt.plot(predicted_temperature, color = 'green', label = 'TF Predicted Temperature')\n",
        "plt.plot(pt, color = 'red', label = 'TF Lite Predicted Temperature')\n",
        "plt.title('Temperature Comparison')\n",
        "plt.xlabel('Days')\n",
        "plt.ylabel('Temperature')\n",
        "plt.legend()\n",
        "plt.show()"
      ],
      "execution_count": null,
      "outputs": []
    }
  ]
}
