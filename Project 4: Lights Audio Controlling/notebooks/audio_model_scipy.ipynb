{
  "nbformat": 4,
  "nbformat_minor": 0,
  "metadata": {
    "colab": {
      "name": "audio_model_scipy.ipynb",
      "provenance": [],
      "collapsed_sections": []
    },
    "kernelspec": {
      "name": "python3",
      "display_name": "Python 3"
    },
    "language_info": {
      "name": "python"
    }
  },
  "cells": [
    {
      "cell_type": "code",
      "metadata": {
        "id": "dzLKpmZICaWN"
      },
      "source": [
        "import os\n",
        "import pathlib\n",
        "\n",
        "import matplotlib.pyplot as plt\n",
        "import numpy as np\n",
        "import seaborn as sns\n",
        "import tensorflow as tf\n",
        "\n",
        "from tensorflow.keras.layers.experimental import preprocessing\n",
        "from tensorflow.keras import layers\n",
        "from tensorflow.keras import models\n",
        "\n",
        "import numpy, scipy\n",
        "import librosa\n",
        "\n",
        "from scipy import signal\n",
        "from scipy.io import wavfile"
      ],
      "execution_count": null,
      "outputs": []
    },
    {
      "cell_type": "code",
      "metadata": {
        "id": "ofPwtbihYQGd",
        "colab": {
          "base_uri": "https://localhost:8080/"
        },
        "outputId": "f168f231-b737-4e4a-b798-f2e37fcaa507"
      },
      "source": [
        "# load the drive helper and mount###\n",
        "from google.colab import drive\n",
        "\n",
        "# this will prompt for authorization.\n",
        "drive.mount('/content/drive')\n",
        "\n",
        "# after executing the cell above, Drive\n",
        "# files will be present in \"/content/drive/My Drive\".\n",
        "!ls \"/content/drive/My Drive\"\n",
        "\n",
        "data_dir = pathlib.Path('/content/drive/MyDrive/new_voice')"
      ],
      "execution_count": null,
      "outputs": [
        {
          "output_type": "stream",
          "name": "stdout",
          "text": [
            "Drive already mounted at /content/drive; to attempt to forcibly remount, call drive.mount(\"/content/drive\", force_remount=True).\n",
            "'Colab Notebooks'  'gg ss.JPG'\t        voice\n",
            " conv_audio\t   'models & weights'  'Voice Controlled Led'\n",
            " Data\t\t    new_voice\t       'voice robot'\n",
            " dataset\t    Others\t       'Voice Robot raw'\n",
            " dataset_new\t   'Pics new'\t       'yt ss.JPG'\n",
            "'ff ss.JPG'\t    video\n"
          ]
        }
      ]
    },
    {
      "cell_type": "code",
      "metadata": {
        "id": "70IBxSKxA1N9",
        "colab": {
          "base_uri": "https://localhost:8080/"
        },
        "outputId": "50bd0f2a-8403-4b2e-fe7b-6e10251f1939"
      },
      "source": [
        "commands = np.array(tf.io.gfile.listdir(str(data_dir)))\n",
        "print('Commands:', commands)"
      ],
      "execution_count": null,
      "outputs": [
        {
          "output_type": "stream",
          "name": "stdout",
          "text": [
            "Commands: ['on' 'off' 'green' 'red']\n"
          ]
        }
      ]
    },
    {
      "cell_type": "code",
      "metadata": {
        "id": "hlX685l1wD9k",
        "colab": {
          "base_uri": "https://localhost:8080/"
        },
        "outputId": "cbc8678a-67f6-4617-f93e-77673236cdce"
      },
      "source": [
        "filenames = tf.io.gfile.glob(str(data_dir) + '/*/*')\n",
        "filenames = tf.random.shuffle(filenames)\n",
        "num_samples = len(filenames)\n",
        "print('Number of total examples:', num_samples)\n",
        "print('Number of examples per label:',\n",
        "      len(tf.io.gfile.listdir(str(data_dir/commands[0]))))\n",
        "print('Example file tensor:', filenames[0])"
      ],
      "execution_count": null,
      "outputs": [
        {
          "output_type": "stream",
          "name": "stdout",
          "text": [
            "Number of total examples: 80\n",
            "Number of examples per label: 20\n",
            "Example file tensor: tf.Tensor(b'/content/drive/MyDrive/new_voice/red/Recording_41.wav', shape=(), dtype=string)\n"
          ]
        }
      ]
    },
    {
      "cell_type": "markdown",
      "metadata": {
        "id": "9vK3ymy23MCP"
      },
      "source": [
        "**Split the files into training, validation and test sets using a 80:10:10 ratio, respectively.**"
      ]
    },
    {
      "cell_type": "code",
      "metadata": {
        "id": "Cv_wts-l3KgD",
        "colab": {
          "base_uri": "https://localhost:8080/"
        },
        "outputId": "42b97bee-b9f9-4d6c-ee1a-ee102fe0fb8d"
      },
      "source": [
        "train_files = filenames[:64]\n",
        "val_files = filenames[64:72]\n",
        "test_files = filenames[72:]\n",
        "\n",
        "print('Training set size', len(train_files))\n",
        "print('Validation set size', len(val_files))\n",
        "print('Test set size', len(test_files))"
      ],
      "execution_count": null,
      "outputs": [
        {
          "output_type": "stream",
          "name": "stdout",
          "text": [
            "Training set size 64\n",
            "Validation set size 8\n",
            "Test set size 8\n"
          ]
        }
      ]
    },
    {
      "cell_type": "code",
      "metadata": {
        "id": "9PjJ2iXYwftD"
      },
      "source": [
        "def decode_audio(audio_binary):\n",
        "  audio, _ = tf.audio.decode_wav(audio_binary)\n",
        "  return tf.squeeze(audio, axis=-1)"
      ],
      "execution_count": null,
      "outputs": []
    },
    {
      "cell_type": "code",
      "metadata": {
        "id": "8VTtX1nr3YT-"
      },
      "source": [
        "def get_label(file_path):\n",
        "  parts = tf.strings.split(file_path, os.path.sep)\n",
        "\n",
        "  # Note: You'll use indexing here instead of tuple unpacking to enable this \n",
        "  # to work in a TensorFlow graph.\n",
        "  return parts[-2] "
      ],
      "execution_count": null,
      "outputs": []
    },
    {
      "cell_type": "code",
      "metadata": {
        "id": "WdgUD5T93NyT"
      },
      "source": [
        "def get_waveform_and_label(file_path):\n",
        "  label = get_label(file_path)\n",
        "  audio_binary = tf.io.read_file(file_path)\n",
        "  waveform = decode_audio(audio_binary)\n",
        "  return waveform, label"
      ],
      "execution_count": null,
      "outputs": []
    },
    {
      "cell_type": "code",
      "metadata": {
        "id": "0SQl8yXl3kNP"
      },
      "source": [
        "AUTOTUNE = tf.data.AUTOTUNE\n",
        "files_ds = tf.data.Dataset.from_tensor_slices(train_files)\n",
        "waveform_ds = files_ds.map(get_waveform_and_label, num_parallel_calls=AUTOTUNE)"
      ],
      "execution_count": null,
      "outputs": []
    },
    {
      "cell_type": "code",
      "metadata": {
        "id": "8yuX6Nqzf6wT",
        "colab": {
          "base_uri": "https://localhost:8080/",
          "height": 607
        },
        "outputId": "a3edd001-2d5e-46e4-f121-816a7043eeaa"
      },
      "source": [
        "rows = 3\n",
        "cols = 3\n",
        "n = rows*cols\n",
        "fig, axes = plt.subplots(rows, cols, figsize=(10, 10))\n",
        "for i, (audio, label) in enumerate(waveform_ds.take(n)):\n",
        "  r = i // cols\n",
        "  c = i % cols\n",
        "  ax = axes[r][c]\n",
        "  ax.plot(audio.numpy())\n",
        "  ax.set_yticks(np.arange(-1.2, 1.2, 0.2))\n",
        "  label = label.numpy().decode('utf-8')\n",
        "  ax.set_title(label)\n",
        "\n",
        "plt.show()"
      ],
      "execution_count": null,
      "outputs": [
        {
          "output_type": "display_data",
          "data": {
            "text/plain": [
              "<Figure size 720x720 with 9 Axes>"
            ],
            "image/png": "[encoded data removed]"
          },
          "metadata": {
            "needs_background": "light"
          }
        }
      ]
    },
    {
      "cell_type": "code",
      "source": [
        "def stft(x):\n",
        "    f, t, spec = signal.stft(x.numpy(), fs=22050, nperseg=255, noverlap = 124, nfft=256)\n",
        "    return tf.convert_to_tensor(np.abs(spec))"
      ],
      "metadata": {
        "id": "JsgPvi-q_RaZ"
      },
      "execution_count": null,
      "outputs": []
    },
    {
      "cell_type": "code",
      "metadata": {
        "id": "_4CK75DHz_OR"
      },
      "source": [
        "def get_spectrogram(waveform):\n",
        "  zero_padding = tf.zeros([22050] - tf.shape(waveform), dtype=tf.float32)\n",
        "  waveform = tf.cast(waveform, tf.float32)\n",
        "  equal_length = tf.concat([waveform, zero_padding], 0)\n",
        "    \n",
        "  spectrogram = tf.py_function(func=stft, inp=[equal_length], Tout=tf.float32)\n",
        "       \n",
        "  spectrogram.set_shape((129, 170))\n",
        "  \n",
        "  return spectrogram"
      ],
      "execution_count": null,
      "outputs": []
    },
    {
      "cell_type": "code",
      "metadata": {
        "id": "43IS2IouEV40"
      },
      "source": [
        "def get_spectrogram_and_label_id(audio, label):\n",
        "  spectrogram = get_spectrogram(audio)\n",
        "  spectrogram = tf.expand_dims(spectrogram, -1)\n",
        "  label_id = tf.argmax(label == commands)\n",
        "  return spectrogram, label_id"
      ],
      "execution_count": null,
      "outputs": []
    },
    {
      "cell_type": "code",
      "metadata": {
        "id": "yEVb_oK0oBLQ"
      },
      "source": [
        "spectrogram_ds = waveform_ds.map(\n",
        "    get_spectrogram_and_label_id, num_parallel_calls=AUTOTUNE)"
      ],
      "execution_count": null,
      "outputs": []
    },
    {
      "cell_type": "markdown",
      "metadata": {
        "id": "z5KdY8IF8rkt"
      },
      "source": [
        "### **Build and Train the model**\n",
        "\n",
        "Now you can build and train your model. But before you do that, you'll need to repeat the training set preprocessing on the validation and test sets."
      ]
    },
    {
      "cell_type": "code",
      "metadata": {
        "id": "10UI32QH_45b"
      },
      "source": [
        "def preprocess_dataset(files):\n",
        "  files_ds = tf.data.Dataset.from_tensor_slices(files)\n",
        "  output_ds = files_ds.map(get_waveform_and_label, num_parallel_calls=AUTOTUNE)\n",
        "  output_ds = output_ds.map(\n",
        "      get_spectrogram_and_label_id,  num_parallel_calls=AUTOTUNE)\n",
        "  return output_ds"
      ],
      "execution_count": null,
      "outputs": []
    },
    {
      "cell_type": "code",
      "metadata": {
        "id": "HNv4xwYkB2P6"
      },
      "source": [
        "train_ds = spectrogram_ds\n",
        "val_ds = preprocess_dataset(val_files)\n",
        "test_ds = preprocess_dataset(test_files)"
      ],
      "execution_count": null,
      "outputs": []
    },
    {
      "cell_type": "markdown",
      "metadata": {
        "id": "assnWo6SB3lR"
      },
      "source": [
        "Batch the training and validation sets for model training."
      ]
    },
    {
      "cell_type": "code",
      "metadata": {
        "id": "UgY9WYzn61EX"
      },
      "source": [
        "batch_size = 1\n",
        "train_ds = train_ds.batch(batch_size)\n",
        "val_ds = val_ds.batch(batch_size)"
      ],
      "execution_count": null,
      "outputs": []
    },
    {
      "cell_type": "markdown",
      "metadata": {
        "id": "GS1uIh6F_TN9"
      },
      "source": [
        "Add dataset [`cache()`](https://www.tensorflow.org/api_docs/python/tf/data/Dataset#cache) and [`prefetch()`](https://www.tensorflow.org/api_docs/python/tf/data/Dataset#prefetch) operations to reduce read latency while training the model."
      ]
    },
    {
      "cell_type": "code",
      "metadata": {
        "id": "fdZ6M-F5_QzY"
      },
      "source": [
        "train_ds = train_ds.cache().prefetch(AUTOTUNE)\n",
        "val_ds = val_ds.cache().prefetch(AUTOTUNE)"
      ],
      "execution_count": null,
      "outputs": []
    },
    {
      "cell_type": "markdown",
      "metadata": {
        "id": "rwHkKCQQb5oW"
      },
      "source": [
        "For the model, you'll use a simple convolutional neural network (CNN), since you have transformed the audio files into spectrogram images.\n",
        "The model also has the following additional preprocessing layers:\n",
        "- A [`Resizing`](https://www.tensorflow.org/api_docs/python/tf/keras/layers/experimental/preprocessing/Resizing) layer to downsample the input to enable the model to train faster.\n",
        "- A [`Normalization`](https://www.tensorflow.org/api_docs/python/tf/keras/layers/experimental/preprocessing/Normalization) layer to normalize each pixel in the image based on its mean and standard deviation.\n",
        "\n",
        "For the `Normalization` layer, its `adapt` method would first need to be called on the training data in order to compute aggregate statistics (i.e. mean and standard deviation)."
      ]
    },
    {
      "cell_type": "code",
      "metadata": {
        "id": "ALYz7PFCHblP",
        "colab": {
          "base_uri": "https://localhost:8080/"
        },
        "outputId": "fd09d4e1-6b8b-4e52-afb6-0652f7b588c7"
      },
      "source": [
        "for spectrogram, _ in spectrogram_ds.take(1):\n",
        "  input_shape = spectrogram.shape\n",
        "print('Input shape:', input_shape)\n",
        "num_labels = len(commands)\n",
        "\n",
        "norm_layer = preprocessing.Normalization()\n",
        "norm_layer.adapt(spectrogram_ds.map(lambda x, _: x))\n",
        "\n",
        "model = models.Sequential([\n",
        "    layers.Input(shape=input_shape),\n",
        "    preprocessing.Resizing(32, 32), \n",
        "    norm_layer,\n",
        "    layers.Conv2D(32, 3, activation='relu'),\n",
        "    layers.Conv2D(64, 3, activation='relu'),\n",
        "    layers.MaxPooling2D(),\n",
        "    layers.Dropout(0.25),\n",
        "    layers.Flatten(),\n",
        "    layers.Dense(128, activation='relu'),\n",
        "    layers.Dropout(0.5),\n",
        "    layers.Dense(num_labels),\n",
        "])\n",
        "\n",
        "model.summary()"
      ],
      "execution_count": null,
      "outputs": [
        {
          "output_type": "stream",
          "name": "stdout",
          "text": [
            "Input shape: (129, 170, 1)\n",
            "Model: \"sequential_1\"\n",
            "_________________________________________________________________\n",
            " Layer (type)                Output Shape              Param #   \n",
            "=================================================================\n",
            " resizing_1 (Resizing)       (None, 32, 32, 1)         0         \n",
            "                                                                 \n",
            " normalization_1 (Normalizat  (None, 32, 32, 1)        3         \n",
            " ion)                                                            \n",
            "                                                                 \n",
            " conv2d_2 (Conv2D)           (None, 30, 30, 32)        320       \n",
            "                                                                 \n",
            " conv2d_3 (Conv2D)           (None, 28, 28, 64)        18496     \n",
            "                                                                 \n",
            " max_pooling2d_1 (MaxPooling  (None, 14, 14, 64)       0         \n",
            " 2D)                                                             \n",
            "                                                                 \n",
            " dropout_2 (Dropout)         (None, 14, 14, 64)        0         \n",
            "                                                                 \n",
            " flatten_1 (Flatten)         (None, 12544)             0         \n",
            "                                                                 \n",
            " dense_2 (Dense)             (None, 128)               1605760   \n",
            "                                                                 \n",
            " dropout_3 (Dropout)         (None, 128)               0         \n",
            "                                                                 \n",
            " dense_3 (Dense)             (None, 4)                 516       \n",
            "                                                                 \n",
            "=================================================================\n",
            "Total params: 1,625,095\n",
            "Trainable params: 1,625,092\n",
            "Non-trainable params: 3\n",
            "_________________________________________________________________\n"
          ]
        }
      ]
    },
    {
      "cell_type": "code",
      "metadata": {
        "id": "wFjj7-EmsTD-"
      },
      "source": [
        "model.compile(\n",
        "    optimizer=tf.keras.optimizers.Adam(),\n",
        "    loss=tf.keras.losses.SparseCategoricalCrossentropy(from_logits=True),\n",
        "    metrics=['accuracy'],\n",
        ")"
      ],
      "execution_count": null,
      "outputs": []
    },
    {
      "cell_type": "code",
      "metadata": {
        "id": "ttioPJVMcGtq",
        "colab": {
          "base_uri": "https://localhost:8080/"
        },
        "outputId": "9659a3b5-b6bf-478b-e5a6-9f4067b04990"
      },
      "source": [
        "EPOCHS = 5\n",
        "history = model.fit(\n",
        "    train_ds, \n",
        "    validation_data=val_ds,  \n",
        "    epochs=EPOCHS,\n",
        "    callbacks=tf.keras.callbacks.EarlyStopping(verbose=1, patience=2),\n",
        ")"
      ],
      "execution_count": null,
      "outputs": [
        {
          "output_type": "stream",
          "name": "stdout",
          "text": [
            "Epoch 1/5\n",
            "64/64 [==============================] - 2s 27ms/step - loss: 1.3964 - accuracy: 0.3438 - val_loss: 1.0622 - val_accuracy: 0.8750\n",
            "Epoch 2/5\n",
            "64/64 [==============================] - 1s 19ms/step - loss: 0.7297 - accuracy: 0.7031 - val_loss: 0.4353 - val_accuracy: 0.7500\n",
            "Epoch 3/5\n",
            "64/64 [==============================] - 1s 14ms/step - loss: 0.4784 - accuracy: 0.8594 - val_loss: 0.1963 - val_accuracy: 0.8750\n",
            "Epoch 4/5\n",
            "64/64 [==============================] - 1s 21ms/step - loss: 0.2946 - accuracy: 0.9219 - val_loss: 0.0751 - val_accuracy: 1.0000\n",
            "Epoch 5/5\n",
            "64/64 [==============================] - 1s 18ms/step - loss: 0.2378 - accuracy: 0.9062 - val_loss: 0.0981 - val_accuracy: 1.0000\n"
          ]
        }
      ]
    },
    {
      "cell_type": "markdown",
      "metadata": {
        "id": "gjpCDeQ4mUfS"
      },
      "source": [
        "**Loss Graph**"
      ]
    },
    {
      "cell_type": "code",
      "metadata": {
        "id": "nzhipg3Gu2AY",
        "colab": {
          "base_uri": "https://localhost:8080/",
          "height": 265
        },
        "outputId": "a526756f-2074-42aa-ce6c-5dbff7c7a32a"
      },
      "source": [
        "metrics = history.history\n",
        "plt.plot(history.epoch, metrics['loss'], metrics['val_loss'])\n",
        "plt.legend(['loss', 'val_loss'])\n",
        "plt.show()"
      ],
      "execution_count": null,
      "outputs": [
        {
          "output_type": "display_data",
          "data": {
            "text/plain": [
              "<Figure size 432x288 with 1 Axes>"
            ],
            "image/png": "[encoded data removed]"
          },
          "metadata": {
            "needs_background": "light"
          }
        }
      ]
    },
    {
      "cell_type": "markdown",
      "metadata": {
        "id": "T44K39ZfNpKe"
      },
      "source": [
        "**Accuracy Graph**"
      ]
    },
    {
      "cell_type": "code",
      "metadata": {
        "id": "LO5jAQkeNCfO",
        "colab": {
          "base_uri": "https://localhost:8080/",
          "height": 265
        },
        "outputId": "58169b5f-b8b7-42a2-d530-47b94d7c5b91"
      },
      "source": [
        "metrics = history.history\n",
        "plt.plot(history.epoch, metrics['accuracy'], metrics['val_accuracy'])\n",
        "plt.legend(['accuracy', 'val_accuracy'])\n",
        "plt.show()"
      ],
      "execution_count": null,
      "outputs": [
        {
          "output_type": "display_data",
          "data": {
            "text/plain": [
              "<Figure size 432x288 with 1 Axes>"
            ],
            "image/png": "[encoded data removed]"
          },
          "metadata": {
            "needs_background": "light"
          }
        }
      ]
    },
    {
      "cell_type": "markdown",
      "metadata": {
        "id": "eMqXO4VjU1id"
      },
      "source": [
        "**Model Saving and Size Check**"
      ]
    },
    {
      "cell_type": "code",
      "metadata": {
        "id": "BSXm2V8jVsfO",
        "colab": {
          "base_uri": "https://localhost:8080/"
        },
        "outputId": "dbc7d7f7-1e66-42a8-f124-4d9cb566bc3e"
      },
      "source": [
        "model.save (\"tf_audio_27mar.h5\")\n",
        "print ('TF Size:', round(os.path.getsize(\"tf_audio_27mar.h5\")/(1024*1024), 3) , 'MB')"
      ],
      "execution_count": null,
      "outputs": [
        {
          "output_type": "stream",
          "name": "stdout",
          "text": [
            "TF Size: 18.646 MB\n"
          ]
        }
      ]
    },
    {
      "cell_type": "markdown",
      "metadata": {
        "id": "5ZTt3kO3mfm4"
      },
      "source": [
        "### **Test Set Accuracy Check**\n",
        "\n",
        "Let's run the model on the test set and check performance."
      ]
    },
    {
      "cell_type": "code",
      "metadata": {
        "id": "biU2MwzyAo8o"
      },
      "source": [
        "test_audio = []\n",
        "test_labels = []\n",
        "\n",
        "for audio, label in test_ds:\n",
        "  test_audio.append(audio.numpy())\n",
        "  test_labels.append(label.numpy())\n",
        "\n",
        "test_audio = np.array(test_audio)\n",
        "test_labels = np.array(test_labels)"
      ],
      "execution_count": null,
      "outputs": []
    },
    {
      "cell_type": "code",
      "metadata": {
        "id": "ktUanr9mRZky",
        "colab": {
          "base_uri": "https://localhost:8080/"
        },
        "outputId": "834aec75-1756-47b3-80f1-617a9933a993"
      },
      "source": [
        "y_pred = np.argmax(model.predict(test_audio), axis=1)\n",
        "y_true = test_labels\n",
        "\n",
        "test_acc = sum(y_pred == y_true) / len(y_true)\n",
        "print(f'Test set accuracy: {test_acc:.0%}')"
      ],
      "execution_count": null,
      "outputs": [
        {
          "output_type": "stream",
          "name": "stdout",
          "text": [
            "Test set accuracy: 100%\n"
          ]
        }
      ]
    },
    {
      "cell_type": "markdown",
      "metadata": {
        "id": "O0ATY9nyLg_-"
      },
      "source": [
        "**Display a confusion matrix**"
      ]
    },
    {
      "cell_type": "code",
      "metadata": {
        "id": "BgU66D99LZ1i",
        "colab": {
          "base_uri": "https://localhost:8080/",
          "height": 501
        },
        "outputId": "7399233c-155d-4c84-8534-bf1d40698fba"
      },
      "source": [
        "confusion_mtx = tf.math.confusion_matrix(y_true, y_pred)\n",
        "plt.figure(figsize=(10, 8))\n",
        "sns.heatmap(confusion_mtx,\n",
        "            xticklabels=commands,\n",
        "            yticklabels=commands,\n",
        "            annot=True, fmt='g')\n",
        "plt.xlabel('Prediction')\n",
        "plt.ylabel('Label')\n",
        "plt.show()"
      ],
      "execution_count": null,
      "outputs": [
        {
          "output_type": "display_data",
          "data": {
            "text/plain": [
              "<Figure size 720x576 with 2 Axes>"
            ],
            "image/png": "[encoded data removed]"
          },
          "metadata": {
            "needs_background": "light"
          }
        }
      ]
    },
    {
      "cell_type": "markdown",
      "metadata": {
        "id": "mQGi_mzPcLvl"
      },
      "source": [
        "### **Model Prediction**\n",
        "\n",
        "Finally, verify the model's prediction output using an input audio file. How well does your model perform?"
      ]
    },
    {
      "cell_type": "code",
      "metadata": {
        "id": "zRxauKMdhofU",
        "colab": {
          "base_uri": "https://localhost:8080/",
          "height": 281
        },
        "outputId": "f57d7733-5feb-4cf7-8e59-ba1d9ca75715"
      },
      "source": [
        "sample_file = data_dir/'red/Recording_23.wav' # use any file here\n",
        "\n",
        "sample_ds = preprocess_dataset([str(sample_file)])\n",
        "\n",
        "for spectrogram, label in sample_ds.batch(1):\n",
        "  prediction = model(spectrogram)\n",
        "  plt.bar(commands, tf.nn.softmax(prediction[0]))\n",
        "  plt.title(f'Predictions for \"{commands[label[0]]}\"')\n",
        "  plt.show()"
      ],
      "execution_count": null,
      "outputs": [
        {
          "output_type": "display_data",
          "data": {
            "text/plain": [
              "<Figure size 432x288 with 1 Axes>"
            ],
            "image/png": "[encoded data removed]"
          },
          "metadata": {
            "needs_background": "light"
          }
        }
      ]
    },
    {
      "cell_type": "markdown",
      "metadata": {
        "id": "J3jF933m9z1J"
      },
      "source": [
        "# **TF Lite Started**\n"
      ]
    },
    {
      "cell_type": "markdown",
      "metadata": {
        "id": "VX00w2MuQgtP"
      },
      "source": [
        "**TF Model to TF Lite Conversion**"
      ]
    },
    {
      "cell_type": "code",
      "metadata": {
        "id": "ieznYWMHPbVJ",
        "colab": {
          "base_uri": "https://localhost:8080/"
        },
        "outputId": "e4477a73-3824-4a9b-fd51-da0e0e70802a"
      },
      "source": [
        "# convert & optimize the model\n",
        "converter = tf.lite.TFLiteConverter.from_keras_model(model)\n",
        "converter.optimization = [tf.lite.Optimize.OPTIMIZE_FOR_SIZE]\n",
        "tflite_model = converter.convert()"
      ],
      "execution_count": null,
      "outputs": [
        {
          "output_type": "stream",
          "name": "stdout",
          "text": [
            "INFO:tensorflow:Assets written to: /tmp/tmp77peg0w6/assets\n"
          ]
        },
        {
          "output_type": "stream",
          "name": "stderr",
          "text": [
            "WARNING:absl:Buffer deduplication procedure will be skipped when flatbuffer library is not properly loaded\n"
          ]
        }
      ]
    },
    {
      "cell_type": "markdown",
      "metadata": {
        "id": "KrIp2NhkQrqk"
      },
      "source": [
        "**TF Lite Model Saving & Size Check**"
      ]
    },
    {
      "cell_type": "code",
      "metadata": {
        "id": "VS0MWE-6W58-",
        "colab": {
          "base_uri": "https://localhost:8080/"
        },
        "outputId": "6fafd265-7b33-46c7-caaa-f67c66928686"
      },
      "source": [
        "# save the model\n",
        "open('tflite_audio_27mar.tflite', 'wb').write(tflite_model)\n",
        "\n",
        "# model size check\n",
        "print ('TF Lite Size:', round(os.path.getsize('tflite_audio_27mar.tflite')/(1024), 3) , 'KB')"
      ],
      "execution_count": null,
      "outputs": [
        {
          "output_type": "stream",
          "name": "stdout",
          "text": [
            "TF Lite Size: 6351.109 KB\n"
          ]
        }
      ]
    },
    {
      "cell_type": "markdown",
      "metadata": {
        "id": "aVSt1aG6Q7Ux"
      },
      "source": [
        "**Interpreter**"
      ]
    },
    {
      "cell_type": "code",
      "metadata": {
        "id": "TLkruYGcPemF",
        "colab": {
          "base_uri": "https://localhost:8080/"
        },
        "outputId": "9b5e4478-67b2-4fb4-d3a9-db3e6a35f582"
      },
      "source": [
        "# 'interpreter' to interpret tf lite model and to get input & output details\n",
        "# models obtained from 'TfLiteConverter' can be run in python with 'interpreter'\n",
        "interpreter = tf.lite.Interpreter('tflite_audio_27mar.tflite')\n",
        "\n",
        "input_details = interpreter.get_input_details()\n",
        "output_details = interpreter.get_output_details()\n",
        "\n",
        "# print input & output values & shapes to check everything is same \n",
        "# as the orignal tf model.\n",
        "# data types etc are changed during tf lite conversion & optimizations\n",
        "print(\"Input Shape:\", input_details[0]['shape'])\n",
        "print(\"Input Type:\", input_details[0]['dtype'])\n",
        "print(\"Output Shape:\", output_details[0]['shape'])\n",
        "print(\"Output Type:\", output_details[0]['dtype'])"
      ],
      "execution_count": null,
      "outputs": [
        {
          "output_type": "stream",
          "name": "stdout",
          "text": [
            "Input Shape: [  1 129 170   1]\n",
            "Input Type: <class 'numpy.float32'>\n",
            "Output Shape: [1 4]\n",
            "Output Type: <class 'numpy.float32'>\n"
          ]
        }
      ]
    },
    {
      "cell_type": "markdown",
      "metadata": {
        "id": "WoSdft_9R0GU"
      },
      "source": [
        "**Comparison of TF & TF Lite Output**"
      ]
    },
    {
      "cell_type": "code",
      "metadata": {
        "id": "cdm7yb9APjG1",
        "colab": {
          "base_uri": "https://localhost:8080/",
          "height": 545
        },
        "outputId": "b3ea552a-377b-4697-b911-53d8bcd21770"
      },
      "source": [
        "sample_file = data_dir/'off/Recording_19.wav'\n",
        "\n",
        "sample_ds = preprocess_dataset([str(sample_file)])\n",
        "\n",
        "for spectrogram, label in sample_ds.batch(1):\n",
        "  prediction = model(spectrogram)\n",
        "  plt.bar(commands, tf.nn.softmax(prediction[0]))\n",
        "  plt.title(f'TF Predictions for \"{commands[label[0]]}\"')\n",
        "  plt.show()\n",
        "\n",
        "for spectrogram, label in sample_ds.batch(1):\n",
        "  # needed before execution\n",
        "  # tensorFlow lite pre-plans tensor allocations to optimize inference,\n",
        "  # so the user needs to call allocate_tensors() before any inference.\n",
        "  interpreter.allocate_tensors()\n",
        "  interpreter.set_tensor(input_details[0]['index'],spectrogram)\n",
        "  interpreter.invoke()\n",
        "\n",
        "  # predicting from tf lite model\n",
        "  predictionx = interpreter.get_tensor(output_details[0]['index'])\n",
        "  plt.bar(commands, tf.nn.softmax(predictionx[0]))\n",
        "  plt.title(f'TF Lite Predictions for \"{commands[label[0]]}\"')\n",
        "  plt.show()\n"
      ],
      "execution_count": null,
      "outputs": [
        {
          "output_type": "display_data",
          "data": {
            "text/plain": [
              "<Figure size 432x288 with 1 Axes>"
            ],
            "image/png": "[encoded data removed]"
          },
          "metadata": {
            "needs_background": "light"
          }
        },
        {
          "output_type": "display_data",
          "data": {
            "text/plain": [
              "<Figure size 432x288 with 1 Axes>"
            ],
            "image/png": "[encoded data removed]"
          },
          "metadata": {
            "needs_background": "light"
          }
        }
      ]
    }
  ]
}