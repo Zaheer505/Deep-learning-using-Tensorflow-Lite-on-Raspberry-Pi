{
  "nbformat": 4,
  "nbformat_minor": 0,
  "metadata": {
    "colab": {
      "name": "tf_lite_final.ipynb",
      "provenance": [],
      "collapsed_sections": [],
      "authorship_tag": "ABX9TyOK5Ai99sppYGV4hOymrh8Q",
      "include_colab_link": true
    },
    "kernelspec": {
      "name": "python3",
      "display_name": "Python 3"
    },
    "language_info": {
      "name": "python"
    }
  },
  "cells": [
    {
      "cell_type": "markdown",
      "metadata": {
        "id": "view-in-github",
        "colab_type": "text"
      },
      "source": [
        "<a href=\"https://colab.research.google.com/github/Zaheer505/Tiny-ML/blob/main/tf_lite_final.ipynb\" target=\"_parent\"><img src=\"https://colab.research.google.com/assets/colab-badge.svg\" alt=\"Open In Colab\"/></a>"
      ]
    },
    {
      "cell_type": "code",
      "metadata": {
        "id": "XgLTHXCQbVss"
      },
      "source": [
        "import os\n",
        "import tensorflow as tf\n",
        "import h5py\n",
        "from tensorflow import keras\n",
        "import numpy as np\n",
        "import matplotlib.pyplot as plt\n",
        "from tensorflow.keras.layers import Flatten\n",
        "from tensorflow.keras.layers import Dense\n",
        "from tensorflow.keras.losses import SparseCategoricalCrossentropy\n",
        "from sklearn.metrics import accuracy_score\n",
        "from sys import getsizeof\n",
        "print(\"Asdasd\")"
      ],
      "execution_count": null,
      "outputs": []
    },
    {
      "cell_type": "code",
      "metadata": {
        "id": "Jg8IIaQZbYh2",
        "colab": {
          "base_uri": "https://localhost:8080/"
        },
        "outputId": "5dec4120-9e78-4b0f-a0db-b79f75405eaf"
      },
      "source": [
        "# Must check this because tf 1.x is different and has different rules.\n",
        "print(tf.__version__)"
      ],
      "execution_count": null,
      "outputs": [
        {
          "output_type": "stream",
          "text": [
            "2.6.0\n"
          ],
          "name": "stdout"
        }
      ]
    },
    {
      "cell_type": "code",
      "metadata": {
        "id": "e_19DihRb6st"
      },
      "source": [
        "# getting MNIST Fashion data set\n",
        "fashion_mnist = keras.datasets.fashion_mnist\n",
        "(train_images, train_labels), (test_images, test_labels) = fashion_mnist.load_data()"
      ],
      "execution_count": null,
      "outputs": []
    },
    {
      "cell_type": "code",
      "metadata": {
        "id": "nL0r_I_EcAyk"
      },
      "source": [
        "# Name of classes in our data set\n",
        "class_names = ['T-shirt/top', 'Trouser', 'Pullover', 'Dress', 'Coat',\n",
        "               'Sandal', 'Shirt', 'Sneaker', 'Bag', 'Ankle boot']"
      ],
      "execution_count": null,
      "outputs": []
    },
    {
      "cell_type": "markdown",
      "metadata": {
        "id": "hTSi0x42Hpcb"
      },
      "source": [
        "**Exploring the data**"
      ]
    },
    {
      "cell_type": "code",
      "metadata": {
        "colab": {
          "base_uri": "https://localhost:8080/"
        },
        "id": "SbiMmXHLHZkb",
        "outputId": "f0bea6d9-d981-4bb5-b0ad-d9eec94f0bf8"
      },
      "source": [
        "train_images.shape"
      ],
      "execution_count": null,
      "outputs": [
        {
          "output_type": "execute_result",
          "data": {
            "text/plain": [
              "(60000, 28, 28)"
            ]
          },
          "metadata": {},
          "execution_count": 168
        }
      ]
    },
    {
      "cell_type": "code",
      "metadata": {
        "colab": {
          "base_uri": "https://localhost:8080/"
        },
        "id": "U9nbTb41Hhi2",
        "outputId": "16470cfe-f207-4ea8-8a77-6e312bb03b42"
      },
      "source": [
        "len(train_labels)"
      ],
      "execution_count": null,
      "outputs": [
        {
          "output_type": "execute_result",
          "data": {
            "text/plain": [
              "60000"
            ]
          },
          "metadata": {},
          "execution_count": 169
        }
      ]
    },
    {
      "cell_type": "code",
      "metadata": {
        "colab": {
          "base_uri": "https://localhost:8080/"
        },
        "id": "wW-TdxU1HhRT",
        "outputId": "8a439d05-5c7e-4830-f6ef-774e0ed9f930"
      },
      "source": [
        "train_labels"
      ],
      "execution_count": null,
      "outputs": [
        {
          "output_type": "execute_result",
          "data": {
            "text/plain": [
              "array([9, 0, 0, ..., 3, 0, 5], dtype=uint8)"
            ]
          },
          "metadata": {},
          "execution_count": 170
        }
      ]
    },
    {
      "cell_type": "code",
      "metadata": {
        "colab": {
          "base_uri": "https://localhost:8080/"
        },
        "id": "7nKiTfoVIAFQ",
        "outputId": "083ffed8-d5ad-4d07-acba-9efeb674f5eb"
      },
      "source": [
        "test_images.shape"
      ],
      "execution_count": null,
      "outputs": [
        {
          "output_type": "execute_result",
          "data": {
            "text/plain": [
              "(10000, 28, 28)"
            ]
          },
          "metadata": {},
          "execution_count": 171
        }
      ]
    },
    {
      "cell_type": "code",
      "metadata": {
        "colab": {
          "base_uri": "https://localhost:8080/"
        },
        "id": "sDB-2U48H_26",
        "outputId": "3bb110ed-06d8-4d27-c9d9-c39fc777bee0"
      },
      "source": [
        "len(test_labels)"
      ],
      "execution_count": null,
      "outputs": [
        {
          "output_type": "execute_result",
          "data": {
            "text/plain": [
              "10000"
            ]
          },
          "metadata": {},
          "execution_count": 172
        }
      ]
    },
    {
      "cell_type": "markdown",
      "metadata": {
        "id": "pAghadYTR9jK"
      },
      "source": [
        "**Preprocessing**"
      ]
    },
    {
      "cell_type": "code",
      "metadata": {
        "id": "Tr98aAPIcgCk"
      },
      "source": [
        "# To get values between 0 and 1\n",
        "train_images = train_images / 255.0\n",
        "test_images = test_images / 255.0"
      ],
      "execution_count": null,
      "outputs": []
    },
    {
      "cell_type": "markdown",
      "metadata": {
        "id": "-yhU3HpDSEDw"
      },
      "source": [
        "**Model**"
      ]
    },
    {
      "cell_type": "code",
      "metadata": {
        "id": "L61O57K1cgsP"
      },
      "source": [
        "# Neural Network Model\n",
        "model = keras.Sequential([\n",
        "    Flatten(input_shape=(28, 28)),\n",
        "    Dense(128, activation='relu'),\n",
        "    Dense(256, activation='relu'),\n",
        "    Dense(10)\n",
        "])"
      ],
      "execution_count": null,
      "outputs": []
    },
    {
      "cell_type": "code",
      "metadata": {
        "id": "FY8q--0xckl8"
      },
      "source": [
        "# Optimizer, loss and metric to know accuracy \n",
        "model.compile(optimizer='adam',\n",
        "              loss= SparseCategoricalCrossentropy(from_logits=True),\n",
        "              metrics=['accuracy'])"
      ],
      "execution_count": null,
      "outputs": []
    },
    {
      "cell_type": "markdown",
      "metadata": {
        "id": "YifHKWLMSMp7"
      },
      "source": [
        "**Training**"
      ]
    },
    {
      "cell_type": "code",
      "metadata": {
        "id": "Ex0dH2WFck2y",
        "colab": {
          "base_uri": "https://localhost:8080/"
        },
        "outputId": "dccbc613-7b44-4aa2-a459-a16c3f219d2c"
      },
      "source": [
        "# Fitting images to Model\n",
        "# Epoch = number of times that the learning algorithm will work through the entire training dataset\n",
        "# More Epochs result in more accuracy but can result in overfitting\n",
        "model.fit(train_images, train_labels, epochs=10)"
      ],
      "execution_count": null,
      "outputs": [
        {
          "output_type": "stream",
          "text": [
            "Epoch 1/10\n",
            "1875/1875 [==============================] - 5s 3ms/step - loss: 0.4729 - accuracy: 0.8306\n",
            "Epoch 2/10\n",
            "1875/1875 [==============================] - 5s 3ms/step - loss: 0.3595 - accuracy: 0.8676\n",
            "Epoch 3/10\n",
            "1875/1875 [==============================] - 5s 3ms/step - loss: 0.3265 - accuracy: 0.8795\n",
            "Epoch 4/10\n",
            "1875/1875 [==============================] - 5s 3ms/step - loss: 0.3016 - accuracy: 0.8886\n",
            "Epoch 5/10\n",
            "1875/1875 [==============================] - 5s 3ms/step - loss: 0.2855 - accuracy: 0.8934\n",
            "Epoch 6/10\n",
            "1875/1875 [==============================] - 5s 3ms/step - loss: 0.2719 - accuracy: 0.8974\n",
            "Epoch 7/10\n",
            "1875/1875 [==============================] - 5s 3ms/step - loss: 0.2571 - accuracy: 0.9040\n",
            "Epoch 8/10\n",
            "1875/1875 [==============================] - 5s 3ms/step - loss: 0.2464 - accuracy: 0.9064\n",
            "Epoch 9/10\n",
            "1875/1875 [==============================] - 5s 3ms/step - loss: 0.2359 - accuracy: 0.9096\n",
            "Epoch 10/10\n",
            "1875/1875 [==============================] - 5s 3ms/step - loss: 0.2271 - accuracy: 0.9138\n"
          ],
          "name": "stdout"
        },
        {
          "output_type": "execute_result",
          "data": {
            "text/plain": [
              "<keras.callbacks.History at 0x7fa0dd2caad0>"
            ]
          },
          "metadata": {},
          "execution_count": 176
        }
      ]
    },
    {
      "cell_type": "code",
      "metadata": {
        "id": "VeS-7zk7clAT"
      },
      "source": [
        " tf_model_name = \"tf_model_fashion_mnist.h5\""
      ],
      "execution_count": null,
      "outputs": []
    },
    {
      "cell_type": "code",
      "metadata": {
        "id": "wSebsux8gzNU",
        "colab": {
          "base_uri": "https://localhost:8080/"
        },
        "outputId": "9dfa49ce-6841-481d-f41f-9d9eabd579ad"
      },
      "source": [
        "# to know what our NN model look like, we can get it's summary\n",
        "model.summary()"
      ],
      "execution_count": null,
      "outputs": [
        {
          "output_type": "stream",
          "text": [
            "Model: \"sequential_2\"\n",
            "_________________________________________________________________\n",
            "Layer (type)                 Output Shape              Param #   \n",
            "=================================================================\n",
            "flatten_2 (Flatten)          (None, 784)               0         \n",
            "_________________________________________________________________\n",
            "dense_6 (Dense)              (None, 128)               100480    \n",
            "_________________________________________________________________\n",
            "dense_7 (Dense)              (None, 256)               33024     \n",
            "_________________________________________________________________\n",
            "dense_8 (Dense)              (None, 10)                2570      \n",
            "=================================================================\n",
            "Total params: 136,074\n",
            "Trainable params: 136,074\n",
            "Non-trainable params: 0\n",
            "_________________________________________________________________\n"
          ],
          "name": "stdout"
        }
      ]
    },
    {
      "cell_type": "code",
      "metadata": {
        "id": "IVXDFdEYdPLz"
      },
      "source": [
        "#saving the\n",
        "model.save(tf_model_name)"
      ],
      "execution_count": null,
      "outputs": []
    },
    {
      "cell_type": "code",
      "metadata": {
        "id": "04lj6DwdsBYB",
        "colab": {
          "base_uri": "https://localhost:8080/"
        },
        "outputId": "4628729f-31fd-47f4-cb7a-59399259527b"
      },
      "source": [
        "print ('Size:', round(os.path.getsize(tf_model_name)/(1024*1024), 3) , 'MB')"
      ],
      "execution_count": null,
      "outputs": [
        {
          "output_type": "stream",
          "text": [
            "Size: 1.589 MB\n"
          ],
          "name": "stdout"
        }
      ]
    },
    {
      "cell_type": "code",
      "metadata": {
        "id": "_elv8sQmgkXK",
        "colab": {
          "base_uri": "https://localhost:8080/"
        },
        "outputId": "072d7c22-e370-4460-9ac4-f02e568a4d0d"
      },
      "source": [
        "test_loss, test_acc = model.evaluate(test_images,  test_labels, verbose=2)\n",
        "print('\\nTest accuracy:', round(test_acc*100, 2), '%')"
      ],
      "execution_count": null,
      "outputs": [
        {
          "output_type": "stream",
          "text": [
            "313/313 - 0s - loss: 0.3482 - accuracy: 0.8808\n",
            "\n",
            "Test accuracy: 88.08 %\n"
          ],
          "name": "stdout"
        }
      ]
    },
    {
      "cell_type": "markdown",
      "metadata": {
        "id": "VhQr_6Gqds0f"
      },
      "source": [
        "**TF Lite Model Started**"
      ]
    },
    {
      "cell_type": "code",
      "metadata": {
        "id": "IXV6igMoW-6I"
      },
      "source": [
        "tf_lite_model_file_name = \"tf_lite_model.tflite\""
      ],
      "execution_count": null,
      "outputs": []
    },
    {
      "cell_type": "code",
      "metadata": {
        "id": "AO6fTj19gwOB",
        "colab": {
          "base_uri": "https://localhost:8080/"
        },
        "outputId": "7da41125-3681-4cdb-d5f4-9369bded163b"
      },
      "source": [
        "tf_lite_converter = tf.lite.TFLiteConverter.from_keras_model(model)\n",
        "tf_lite_converter.optimizations = [tf.lite.Optimize.OPTIMIZE_FOR_SIZE] # optimizing for size \n",
        "tflite_model = tf_lite_converter.convert()"
      ],
      "execution_count": null,
      "outputs": [
        {
          "output_type": "stream",
          "text": [
            "WARNING:absl:Optimization option OPTIMIZE_FOR_SIZE is deprecated, please use optimizations=[Optimize.DEFAULT] instead.\n"
          ],
          "name": "stderr"
        },
        {
          "output_type": "stream",
          "text": [
            "INFO:tensorflow:Assets written to: /tmp/tmpwri52zf2/assets\n"
          ],
          "name": "stdout"
        },
        {
          "output_type": "stream",
          "text": [
            "INFO:tensorflow:Assets written to: /tmp/tmpwri52zf2/assets\n",
            "WARNING:absl:Optimization option OPTIMIZE_FOR_SIZE is deprecated, please use optimizations=[Optimize.DEFAULT] instead.\n",
            "WARNING:absl:Optimization option OPTIMIZE_FOR_SIZE is deprecated, please use optimizations=[Optimize.DEFAULT] instead.\n"
          ],
          "name": "stderr"
        }
      ]
    },
    {
      "cell_type": "code",
      "metadata": {
        "id": "w8kIn4iPXE1q",
        "colab": {
          "base_uri": "https://localhost:8080/"
        },
        "outputId": "d82eb535-77b7-4384-ef1c-0fc6d89d7dff"
      },
      "source": [
        "tflite_model_name = tf_lite_model_file_name\n",
        "open(tflite_model_name, \"wb\").write(tflite_model)"
      ],
      "execution_count": null,
      "outputs": [
        {
          "output_type": "execute_result",
          "data": {
            "text/plain": [
              "139408"
            ]
          },
          "metadata": {},
          "execution_count": 185
        }
      ]
    },
    {
      "cell_type": "code",
      "metadata": {
        "id": "2q4TML2ugwB1",
        "colab": {
          "base_uri": "https://localhost:8080/"
        },
        "outputId": "924b9908-253b-4ae7-dcd8-bf2e4a308895"
      },
      "source": [
        "print ('Size:', round(os.path.getsize(tf_lite_model_file_name)/(1024), 3) , 'KB')"
      ],
      "execution_count": null,
      "outputs": [
        {
          "output_type": "stream",
          "text": [
            "Size: 136.141 KB\n"
          ],
          "name": "stdout"
        }
      ]
    },
    {
      "cell_type": "markdown",
      "metadata": {
        "id": "usCHZEbDhFmO"
      },
      "source": [
        "**Input Shape Check**"
      ]
    },
    {
      "cell_type": "code",
      "metadata": {
        "id": "HiibvC0acCit"
      },
      "source": [
        "interpreter = tf.lite.Interpreter(model_path = tf_lite_model_file_name)\n",
        "input_details = interpreter.get_input_details()\n",
        "output_details = interpreter.get_output_details()\n",
        "print(\"Input Shape:\", input_details[0]['shape'])\n",
        "print(\"Input Type:\", input_details[0]['dtype'])\n",
        "print(\"Output Shape:\", output_details[0]['shape'])\n",
        "print(\"Output Type:\", output_details[0]['dtype'])"
      ],
      "execution_count": null,
      "outputs": []
    },
    {
      "cell_type": "markdown",
      "metadata": {
        "id": "v9qp9nhhlnGd"
      },
      "source": [
        "**Resizing Shape**"
      ]
    },
    {
      "cell_type": "code",
      "metadata": {
        "id": "p2dLEs15cEkl"
      },
      "source": [
        "interpreter.resize_tensor_input(input_details[0]['index'], (10000, 28, 28))\n",
        "interpreter.resize_tensor_input(output_details[0]['index'], (10000, 10))\n",
        "interpreter.allocate_tensors()\n",
        "input_details = interpreter.get_input_details()\n",
        "output_details = interpreter.get_output_details()\n",
        "print(\"Input Shape:\", input_details[0]['shape'])\n",
        "print(\"Input Type:\", input_details[0]['dtype'])\n",
        "print(\"Output Shape:\", output_details[0]['shape'])\n",
        "print(\"Output Type:\", output_details[0]['dtype'])"
      ],
      "execution_count": null,
      "outputs": []
    },
    {
      "cell_type": "code",
      "metadata": {
        "id": "fr-VK6qYcGv2",
        "colab": {
          "base_uri": "https://localhost:8080/"
        },
        "outputId": "6e52c0ab-2190-43ad-8caf-82f817c96ac8"
      },
      "source": [
        "test_images.dtype # checking orignal data type"
      ],
      "execution_count": null,
      "outputs": [
        {
          "output_type": "execute_result",
          "data": {
            "text/plain": [
              "dtype('float64')"
            ]
          },
          "metadata": {},
          "execution_count": 190
        }
      ]
    },
    {
      "cell_type": "code",
      "metadata": {
        "id": "NsY6NfmwgvZw"
      },
      "source": [
        "test_imgs_numpy = np.array(test_images, dtype=np.float32) # convert to new data type"
      ],
      "execution_count": null,
      "outputs": []
    },
    {
      "cell_type": "markdown",
      "metadata": {
        "id": "dWB7uD79l80s"
      },
      "source": [
        "**Prediction/Accuracy Check**"
      ]
    },
    {
      "cell_type": "code",
      "metadata": {
        "id": "uYZfKBEYhhi1",
        "colab": {
          "base_uri": "https://localhost:8080/"
        },
        "outputId": "fde7b383-06ab-436e-939c-69b2f908ade9"
      },
      "source": [
        "interpreter.set_tensor(input_details[0]['index'], test_imgs_numpy)\n",
        "interpreter.invoke()\n",
        "tflite_model_predictions = interpreter.get_tensor(output_details[0]['index'])\n",
        "print(\"Prediction results shape:\", tflite_model_predictions.shape)\n",
        "tf_prediction_classes = np.argmax(tflite_model_predictions, axis=1)\n",
        "print (tf_prediction_classes)"
      ],
      "execution_count": null,
      "outputs": [
        {
          "output_type": "stream",
          "text": [
            "Prediction results shape: (10000, 10)\n",
            "[9 2 1 ... 8 1 5]\n"
          ],
          "name": "stdout"
        }
      ]
    },
    {
      "cell_type": "code",
      "metadata": {
        "id": "uEQ8pNZVhhed",
        "colab": {
          "base_uri": "https://localhost:8080/"
        },
        "outputId": "3f2abb37-40a4-4175-d3b6-746116b6711f"
      },
      "source": [
        "acc = accuracy_score(tf_prediction_classes, test_labels)\n",
        "print ('Accuracy:', round(acc*100, 4), '%')"
      ],
      "execution_count": null,
      "outputs": [
        {
          "output_type": "stream",
          "text": [
            "Accuracy 87.86 %\n"
          ],
          "name": "stdout"
        }
      ]
    }
  ]
}