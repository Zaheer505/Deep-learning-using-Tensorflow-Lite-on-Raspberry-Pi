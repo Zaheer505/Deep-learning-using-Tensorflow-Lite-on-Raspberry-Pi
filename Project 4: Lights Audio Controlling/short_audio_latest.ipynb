{
  "nbformat": 4,
  "nbformat_minor": 0,
  "metadata": {
    "colab": {
      "name": "short_audio_latest.ipynb",
      "provenance": [],
      "collapsed_sections": []
    },
    "kernelspec": {
      "name": "python3",
      "display_name": "Python 3"
    },
    "language_info": {
      "name": "python"
    },
    "accelerator": "GPU"
  },
  "cells": [
    {
      "cell_type": "code",
      "source": [
        "import numpy as np\n",
        "import matplotlib.pyplot as plt\n",
        "import tensorflow as tf \n",
        "import os\n",
        "import pathlib\n",
        "\n",
        "model_path = '/content/audio_tflite_model.tflite'\n",
        "interpreter = tf.lite.Interpreter(model_path)\n",
        "interpreter.allocate_tensors()\n",
        "input_details = interpreter.get_input_details()\n",
        "output_details = interpreter.get_output_details()\n",
        "\n",
        "print(\"Input Shape:\", input_details[0]['shape'])\n",
        "print(\"Input Type:\", input_details[0]['dtype'])\n",
        "print(\"Output Shape:\", output_details[0]['shape'])\n",
        "print(\"Output Type:\", output_details[0]['dtype'])"
      ],
      "metadata": {
        "id": "jdEs7piPTTeP",
        "colab": {
          "base_uri": "https://localhost:8080/"
        },
        "outputId": "e10afe18-c67a-4553-f14c-7503cd5bf3ef"
      },
      "execution_count": 1,
      "outputs": [
        {
          "output_type": "stream",
          "name": "stdout",
          "text": [
            "Input Shape: [  1 170 129   1]\n",
            "Input Type: <class 'numpy.float32'>\n",
            "Output Shape: [1 4]\n",
            "Output Type: <class 'numpy.float32'>\n"
          ]
        }
      ]
    },
    {
      "cell_type": "code",
      "source": [
        "from scipy import signal\n",
        "from scipy.io import wavfile \n",
        "\n",
        "rate, samples = wavfile.read ('/content/Recording_34.wav')\n",
        "\n",
        "print (rate)\n",
        "print (samples.shape)\n",
        "freq, t, spec = signal.spectrogram(samples, rate)\n",
        "print (freq.shape)\n",
        "print (t.shape)\n",
        "\n",
        "zero_padding = tf.zeros([22000] - tf.shape(samples), dtype=tf.float32)\n",
        "waveform = tf.cast(samples, tf.float32)\n",
        "equal_length = tf.concat([waveform, zero_padding], 0)\n",
        "spectrogram = tf.signal.stft(equal_length, frame_length=255, frame_step=128)\n",
        "spectrogram = tf.abs(spectrogram)\n",
        "spec_new = tf.expand_dims(spectrogram, -1)\n",
        "\n",
        "print (spec_new.shape)\n",
        "\n",
        "spec2 = np.reshape(spec_new,(-1, spec_new.shape[0], spec_new.shape[1],1))\n",
        "\n",
        "#print (spec1.shape)\n",
        "\n",
        "interpreter.allocate_tensors()\n",
        "interpreter.set_tensor(input_details[0]['index'], spec2)\n",
        "interpreter.invoke()\n",
        "\n",
        "predictionx = interpreter.get_tensor(output_details[0]['index'])\n",
        "\n",
        "output = np.argmax(predictionx[0])\n",
        "\n",
        "if output==0:\n",
        "  print ('on')\n",
        "elif output==1:\n",
        "  print ('off')\n",
        "elif output==2:\n",
        "  print ('green')\n",
        "elif output==3:\n",
        "  print ('red')"
      ],
      "metadata": {
        "colab": {
          "base_uri": "https://localhost:8080/"
        },
        "id": "9HU08hv9CGw4",
        "outputId": "eda4555a-abcd-4a04-9f22-8368b6f42f26"
      },
      "execution_count": 3,
      "outputs": [
        {
          "output_type": "stream",
          "name": "stdout",
          "text": [
            "16000\n",
            "(11194,)\n",
            "(129,)\n",
            "(49,)\n",
            "(170, 129, 1)\n",
            "red\n"
          ]
        }
      ]
    }
  ]
}