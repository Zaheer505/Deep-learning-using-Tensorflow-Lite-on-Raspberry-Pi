{
  "nbformat": 4,
  "nbformat_minor": 0,
  "metadata": {
    "colab": {
      "name": "short_audio_scipy.ipynb",
      "provenance": [],
      "collapsed_sections": []
    },
    "kernelspec": {
      "name": "python3",
      "display_name": "Python 3"
    },
    "language_info": {
      "name": "python"
    },
    "accelerator": "GPU"
  },
  "cells": [
    {
      "cell_type": "code",
      "source": [
        "import numpy as np\n",
        "import matplotlib.pyplot as plt\n",
        "import tensorflow as tf \n",
        "import os\n",
        "import pathlib\n",
        "from scipy import signal\n",
        "from scipy.io import wavfile \n",
        "\n",
        "model_path = '/content/tflite_audio_27mar.tflite'\n",
        "interpreter = tf.lite.Interpreter(model_path)\n",
        "interpreter.allocate_tensors()\n",
        "input_details = interpreter.get_input_details()\n",
        "output_details = interpreter.get_output_details()\n",
        "\n",
        "print(\"Input Shape:\", input_details[0]['shape'])\n",
        "print(\"Input Type:\", input_details[0]['dtype'])\n",
        "print(\"Output Shape:\", output_details[0]['shape'])\n",
        "print(\"Output Type:\", output_details[0]['dtype'])"
      ],
      "metadata": {
        "id": "jdEs7piPTTeP",
        "colab": {
          "base_uri": "https://localhost:8080/"
        },
        "outputId": "c40048c2-b794-47bc-b699-76bc2a230003"
      },
      "execution_count": 1,
      "outputs": [
        {
          "output_type": "stream",
          "name": "stdout",
          "text": [
            "Input Shape: [  1 129 170   1]\n",
            "Input Type: <class 'numpy.float32'>\n",
            "Output Shape: [1 4]\n",
            "Output Type: <class 'numpy.float32'>\n"
          ]
        }
      ]
    },
    {
      "cell_type": "code",
      "source": [
        "rate, samples = wavfile.read ('/content/Recording_10.wav')\n",
        "\n",
        "#just remove this and provide audio of 1 sec, which is of 22050 samples\n",
        "zero_padding = tf.zeros([22050] - tf.shape(samples), dtype=tf.float32)\n",
        "waveform = tf.cast(samples, tf.float32)\n",
        "equal_length = tf.concat([waveform, zero_padding], 0)\n",
        "#remove above part\n",
        "\n",
        "#this will work in rpi\n",
        "f, t, spec = signal.stft(equal_length.numpy(), fs=22050, nperseg=255, noverlap = 124, nfft=256)\n",
        "spectrogram = np.abs(spec)\n",
        "\n",
        "#heavy printing to have some idea of things\n",
        "print (spectrogram.dtype)\n",
        "print (spectrogram.shape)\n",
        "\n",
        "spec2 = np.reshape(spectrogram,(1, spectrogram.shape[0], spectrogram.shape[1], 1))\n",
        "print (spec2.shape)\n",
        "\n",
        "interpreter.allocate_tensors()\n",
        "interpreter.set_tensor(input_details[0]['index'], spec2)\n",
        "interpreter.invoke()\n",
        "\n",
        "predictionx = interpreter.get_tensor(output_details[0]['index'])\n",
        "\n",
        "output = np.argmax(predictionx[0])\n",
        "\n",
        "#heavy conditions of programming\n",
        "if output==0:\n",
        "  print ('on')\n",
        "elif output==1:\n",
        "  print ('off')\n",
        "elif output==2:\n",
        "  print ('green')\n",
        "elif output==3:\n",
        "  print ('red')"
      ],
      "metadata": {
        "colab": {
          "base_uri": "https://localhost:8080/"
        },
        "id": "9HU08hv9CGw4",
        "outputId": "a934132b-1150-4b2d-edaf-2f9d087fd72e"
      },
      "execution_count": 15,
      "outputs": [
        {
          "output_type": "stream",
          "name": "stdout",
          "text": [
            "float32\n",
            "(129, 170)\n",
            "(1, 129, 170, 1)\n",
            "off\n"
          ]
        }
      ]
    },
    {
      "cell_type": "code",
      "source": [
        ""
      ],
      "metadata": {
        "id": "K7LcHNpdjKSS"
      },
      "execution_count": null,
      "outputs": []
    }
  ]
}